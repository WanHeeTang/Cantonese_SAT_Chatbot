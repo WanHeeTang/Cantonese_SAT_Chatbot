{
  "cells": [
    {
      "cell_type": "code",
      "execution_count": 1,
      "metadata": {
        "colab": {
          "base_uri": "https://localhost:8080/"
        },
        "id": "6LJ2k7Su-1WA",
        "outputId": "5915df8a-3c85-4451-aa01-658136df7a06"
      },
      "outputs": [
        {
          "name": "stdout",
          "output_type": "stream",
          "text": [
            "Mounted at /content/drive/\n"
          ]
        }
      ],
      "source": [
        "from google.colab import drive\n",
        "drive.mount('/content/drive/')"
      ]
    },
    {
      "cell_type": "code",
      "execution_count": 1,
      "metadata": {
        "id": "DsTR6zfG_ljs"
      },
      "outputs": [],
      "source": [
        "import pandas as pd\n",
        "import numpy as np\n",
        "import matplotlib.pyplot as plt\n",
        "import re"
      ]
    },
    {
      "cell_type": "code",
      "execution_count": 2,
      "metadata": {
        "id": "GnQ6AbxfWCQK"
      },
      "outputs": [],
      "source": [
        "#visualisation options\n",
        "pd.set_option('display.max_rows', None)\n",
        "pd.set_option('display.max_colwidth', None)"
      ]
    },
    {
      "cell_type": "code",
      "execution_count": 5,
      "metadata": {
        "id": "7npwkrGw_suW"
      },
      "outputs": [],
      "source": [
        "#import csv file into df\n",
        "df = pd.read_csv('/Users/Wan Hee/Documents/Academic/2021-2022/Individual Project/Cantonese_SAT_Chatbot/Dataset/Empathy Classification/neutral.csv', encoding=\"utf-8\")"
      ]
    },
    {
      "cell_type": "code",
      "execution_count": 6,
      "metadata": {
        "colab": {
          "base_uri": "https://localhost:8080/",
          "height": 1000
        },
        "id": "QEivs8KjNqIv",
        "outputId": "8b40480c-ed23-4dec-f28e-f72031a3f930"
      },
      "outputs": [
        {
          "data": {
            "text/html": [
              "<div>\n",
              "<style scoped>\n",
              "    .dataframe tbody tr th:only-of-type {\n",
              "        vertical-align: middle;\n",
              "    }\n",
              "\n",
              "    .dataframe tbody tr th {\n",
              "        vertical-align: top;\n",
              "    }\n",
              "\n",
              "    .dataframe thead th {\n",
              "        text-align: right;\n",
              "    }\n",
              "</style>\n",
              "<table border=\"1\" class=\"dataframe\">\n",
              "  <thead>\n",
              "    <tr style=\"text-align: right;\">\n",
              "      <th></th>\n",
              "      <th>唔開心- 這是由特定事件引起的嗎？</th>\n",
              "      <th>唔開心- 這是由最近或遙遠的事件（或事件）引起的嗎？</th>\n",
              "      <th>唔開心 - 你最近是否嘗試過練習6，並發現由於舊事件而重新點燃了無法控制的情緒？</th>\n",
              "      <th>唔開心- 你最近是否嘗試過練習11，並發現由於舊事件而重新點燃了無法控制的情緒？</th>\n",
              "      <th>唔開心- 謝謝。現在我會問一些問題來了解你的情況。</th>\n",
              "      <th>唔開心- 你是否對某人有強烈的感受或表達過以下任何情緒：</th>\n",
              "      <th>唔開心——你認為你應該成為別人的救世主嗎？</th>\n",
              "      <th>唔開心——你是否認為自己是受害者，將你的負面情緒歸咎於別人？</th>\n",
              "      <th>唔開心——你覺得你在試圖控制某人嗎？</th>\n",
              "      <th>唔開心- 當出現問題時，你是否總是責備和指責自己？</th>\n",
              "      <th>...</th>\n",
              "      <th>擔心- 你是否正在經歷個人危機（與親人相處時遇到困難，例如與朋友吵架）？</th>\n",
              "      <th>快樂- 這很好！讓我推薦一個你可以嘗試的練習。</th>\n",
              "      <th>所有情緒- 根據你所說的，我相信你正在感受{}。這個對嗎？</th>\n",
              "      <th>所有的情緒- 對不起。請從以下最能反映你的感受的情緒中選擇：</th>\n",
              "      <th>所有情緒- 感謝你的參與。再見</th>\n",
              "      <th>所有情緒- 這是我的建議，請選擇你想嘗試的練習</th>\n",
              "      <th>所有情緒- 請現在嘗試通過此練習。完成後，按“繼續”</th>\n",
              "      <th>所有情緒- 服用此練習後，你感覺好些還是壞些？</th>\n",
              "      <th>所有的情緒- 你想嘗試另一個練習嗎？ （病人感覺好多了）</th>\n",
              "      <th>所有的情緒- 你想嘗試另一個練習嗎？ （患者感覺更糟）</th>\n",
              "    </tr>\n",
              "  </thead>\n",
              "  <tbody>\n",
              "    <tr>\n",
              "      <th>0</th>\n",
              "      <td>我很遺憾聽到你感覺不舒服。有什麼特別的事情讓你有這種感覺嗎？</td>\n",
              "      <td>我可以認同這一點。現在，這些感覺是最近還是很久以前發生的事件的結果？</td>\n",
              "      <td>首先，你的感受對我很重要，所以我需要詢問你之前與練習的互動情況。你最近有沒有嘗試過練習6 ，如果有，它是否會因為你想起這件事而引發難以處理的情緒？</td>\n",
              "      <td>首先，你的感受對我很重要，所以我需要詢問你之前與練習的互動情況。你最近有沒有嘗試過練習11 ，如果是這樣，它是否會激發你記住這一事件的困難情緒？</td>\n",
              "      <td>感謝你如此樂於助人和耐心。如果你不介意，我還有幾個問題可以幫助我進一步了解情況。</td>\n",
              "      <td>我知道這可能很困難，但如果你能與我分享這一點，我會非常感激。請問你是否對某人表達或感受到了以下強烈的情緒：</td>\n",
              "      <td>你會說你傾向於幫助別人，甚至可能以犧牲自己的幸福為代價嗎？</td>\n",
              "      <td>我想知道你對你在這個角色有什麼看法。在目前的情況下，你是否覺得自己是一個受害者，想要將自己的負面情緒轉移到其他人身上？</td>\n",
              "      <td>負面情緒可能會導致我們想要控制別人。你是否覺得自己是在試圖控製或支配他人？</td>\n",
              "      <td>偶爾為我們的問題責備自己是正常的，但我們應該小心不要把它變成一種壞習慣。你有沒有注意到你總是為任何出錯的事情責備自己？</td>\n",
              "      <td>...</td>\n",
              "      <td>為了讓我能夠幫助你，我需要知道你的生活中是否正在發生重大事件。你覺得你現在過得特別困難，無論是在工作中，在家裡還是和朋友在一起？</td>\n",
              "      <td>我很高興聽到這個！你想讓我推薦一個練習來進一步增強你的積極性嗎？</td>\n",
              "      <td>非常感謝你與我分享。從你的回答來看，你感覺{}聽起來對嗎？</td>\n",
              "      <td>我很抱歉造成誤解。你能告訴我這些情緒中的哪一種符合你的感受嗎？</td>\n",
              "      <td>感謝你今天的合作，我很感激。回頭見！</td>\n",
              "      <td>我會給你一些練習建議，但決定必須來自你，因為你最了解自己。你能否選擇你認為最適合你的練習？</td>\n",
              "      <td>請花點時間通讀一遍以理解，如果可以，請嘗試通讀整件事。完成後只需點擊“繼續”按鈕。</td>\n",
              "      <td>我知道執行練習可能很困難且要求很高。你現在感覺如何，你會說你感覺更好還是更糟？</td>\n",
              "      <td>這真是個好消息！你想嘗試不同的練習嗎？</td>\n",
              "      <td>我很遺憾聽到你有所感受。我們應該嘗試另一個嗎？</td>\n",
              "    </tr>\n",
              "    <tr>\n",
              "      <th>1</th>\n",
              "      <td>我很遺憾聽到你有所感受。是不是有什麼特別的事情導致了這種感覺？</td>\n",
              "      <td>謝謝，我明白了。你能告訴我這是最近發生的事情還是前一陣子發生的事情嗎？我希望你沒有因為這次事件而受到太多傷害。</td>\n",
              "      <td>有些人發現練習6不一定對他們有幫助，所以我試圖評估它是否適合你當前的情況。你是否嘗試過練習6 ，它是否讓你感到任何負面情緒？</td>\n",
              "      <td>有些人發現練習11不一定對他們有幫助，所以我試圖評估它是否適合你當前的情況。你是否嘗試過練習11 ，它是否讓你感到任何負面情緒？</td>\n",
              "      <td>謝謝你與我分享。我要問你一些問題，這樣我們才能找出困擾你的根源。</td>\n",
              "      <td>謝謝，感謝你的耐心等待。你是否會說你對某人有強烈的感受或表達過以下任何一種情緒：</td>\n",
              "      <td>樂於助人是很好的性格，但是，如果我們開始忘記自己的幸福，這種思想會變得不健康。你認為專注於幫助他人成長比專注於自己更重要嗎？</td>\n",
              "      <td>我不知道你是否有過這樣的感受，你可能沒有對自己的感受承擔全部責任，從而導致你對他人進行猛烈抨擊？</td>\n",
              "      <td>謝謝你的回覆，這真的很有幫助。接下來請試著從外面視角看自己，你是否覺得你在控製或試圖控制別人的行為？</td>\n",
              "      <td>你是否覺得自己在對自己進行評判，並在逆境中總是責備自己？</td>\n",
              "      <td>...</td>\n",
              "      <td>感謝你耐心回答這些問題，我想專注於你現在的真實情況。這種擔心真的比我們所說的更糟糕嗎，你真的因為生活中正在發生的事情而痛苦嗎？</td>\n",
              "      <td>噢，真是太好了！如果你願意，我想推薦一個符合你當前感覺的練習。</td>\n",
              "      <td>明白了，謝謝從你告訴我的情況來看，我會說你現在感覺{} ，這聽起來對嗎？</td>\n",
              "      <td>噢，真的很抱歉，我當時一定是誤會了。你能否通過從以下列表中選擇來告訴我你的感受：</td>\n",
              "      <td>非常感謝你今天抽出時間與我們合作，希望你喜歡我們的會議。我期待著下次見到你。</td>\n",
              "      <td>根據你與我分享的內容，我認為這些建議適合你。請你告訴我你想嘗試哪些練習？</td>\n",
              "      <td>我建議你現在就嘗試這個練習，這可能很困難，但只要盡力而為，就會好的。完成練習後，按“繼續”按鈕，然後我們可以討論一下，如果你願意的話。</td>\n",
              "      <td>感謝你完成練習。你會說你感覺比以前更好還是更糟？</td>\n",
              "      <td>我真的很高興這個練習讓你感覺好多了。你認為如果你嘗試另一種練習會有幫助嗎？如果是這樣，你現在想嘗試另一個嗎？</td>\n",
              "      <td>好吧，那很不幸，我道歉。有許多不同的練習可供選擇，那麼你想嘗試另一種練習嗎？</td>\n",
              "    </tr>\n",
              "    <tr>\n",
              "      <th>2</th>\n",
              "      <td>我很遺憾聽到你有所感受。你能找出讓你有這種感覺的具體事件嗎？</td>\n",
              "      <td>你現在一定很痛。你能分享一下這個事件是最近發生的還是更久以前？</td>\n",
              "      <td>謝謝，我明白了。你會說這種負面情緒是由最近對練習6的嘗試引發的嗎？</td>\n",
              "      <td>謝謝，我明白了。你會說這種負面情緒是由最近對練習11的嘗試引發的嗎？</td>\n",
              "      <td>我感謝你的努力，儘管這對你來說一定很艱難。我現在有一些問題可以幫助你了解你的情況。</td>\n",
              "      <td>我很感謝你分享的感受。請問你是否有過以下感受：</td>\n",
              "      <td>感謝你的合作。請問你是否覺得必須不斷將生活中的其他人從他們自己的問題中解救出來？</td>\n",
              "      <td>謝謝，我明白了。希望你不介意我問這個，你覺得現在每個人都在和你做對嗎？</td>\n",
              "      <td>人在經歷強烈情緒時，很難保持客觀，但如果可以的話，我希望你嘗試一下。你是否覺得你總是更關注別人在生活中所做的事情，而不是你在生活中所做的事情？</td>\n",
              "      <td>你是否總是覺得自己是錯的人，即使你不應該這樣做？</td>\n",
              "      <td>...</td>\n",
              "      <td>看起來你可能過得很艱難，請知道你可以和我談談。你的生活中有什麼特別令人痛苦的事情嗎？</td>\n",
              "      <td>有這種感覺真好。我希望我們能抓住它並把它裝進瓶子裡。我可以推薦一個練習，它可以幫助增強你的感受。</td>\n",
              "      <td>謝謝你告訴我，我想確保我理解正確。我相信你有{}的感覺，你能確認一下嗎？</td>\n",
              "      <td>噢，我很抱歉，我真的很感謝你告訴我我做錯了-有時可能很難。你能給我一些幫助以確保我理解嗎？這是一個列表-請讓我知道哪一個描述了你的感受：</td>\n",
              "      <td>非常感謝與我交談，我真的希望它做得很好。真的希望很快能再見到你！</td>\n",
              "      <td>在我們的討論之後，我列出了我想向你推薦的練習。你是否樂意查看它們並選擇你可能會考慮嘗試的練習？</td>\n",
              "      <td>感謝你的選擇，你現在應該可以看到練習了。請看看你是如何處理它的。完成後，你可以按“繼續” 。</td>\n",
              "      <td>謝謝你，歡迎回來。現在你已經完成了，你感覺如何？</td>\n",
              "      <td>我很開心你感覺好多了，我覺得咁樣好正！你想嘗試其他練習嗎？</td>\n",
              "      <td>我很遺憾聽到你有所感受消息。你想嘗試其他練習嗎？</td>\n",
              "    </tr>\n",
              "    <tr>\n",
              "      <th>3</th>\n",
              "      <td>我明白。是否發生了特別事件使這發生？</td>\n",
              "      <td>明白了，謝謝分享。這是最近發生的還是以前的事件？</td>\n",
              "      <td>我想知道，最近嘗試練習6是否會引發任何不好的感覺？如果發生這種情況，我希望你不會因為那次練習而受太多苦。</td>\n",
              "      <td>我想知道，最近嘗試練習6是否會引發任何不好的感覺？如果發生這種情況，我希望你不會因為那次練習而受太多苦。</td>\n",
              "      <td>感謝你分享你的感受。我有幾個問題可以幫助我了解你的情況。</td>\n",
              "      <td>困難的情況會使我們的情緒感到緊張。你是否有任何這些強烈的感受和/或你向另一個人表達過：</td>\n",
              "      <td>我想了解一下你如何看待自己在社交圈中的角色。你是否經常覺得拯救他人是你的責任？或者別人希望你這樣？</td>\n",
              "      <td>明白了，謝謝，那我再試圖探索一下。你是否覺得自己是這個情況或事件的受害者？</td>\n",
              "      <td>再次感謝，這對我的理解很有幫助。你有沒有可能在生活中試圖控製或操縱別人做你想讓他們做的事情？</td>\n",
              "      <td>我明白了，謝謝你花時間回答這個問題。請問你是否覺得自己有一種總是將問題歸咎於自己的傾向？</td>\n",
              "      <td>...</td>\n",
              "      <td>請問你目前在生活中是否遇到了特別的困難或困難，可能會導致你過度擔心或痛苦？</td>\n",
              "      <td>我看你是！如果可以的話，我想推薦一個練習。</td>\n",
              "      <td>謝謝你分享你的情緒。我認為你感覺{}是否正確？</td>\n",
              "      <td>噢，對不起，我誤解了你的情緒。也許你可以將你當前的情緒描述為列表中的其中一種？</td>\n",
              "      <td>非常感謝你參加本次會議，我非常感謝你的時間。一會兒見！</td>\n",
              "      <td>我有一些你可以嘗試的推薦練習。你現在有什麼想嘗試的嗎？如果是，請選擇它。</td>\n",
              "      <td>感謝你選擇此練習。你現在願意嘗試此練習嗎？完成後，請你按“繼續”按鈕。</td>\n",
              "      <td>非常感謝你接受本練習。完成後，你最初的感受是什麼，你感覺好些了還是更糟了？</td>\n",
              "      <td>非常好。正如你暗示的那樣，你感覺心情更好，你想繼續執行另一個練習嗎？</td>\n",
              "      <td>很抱歉，這並沒有讓你感覺好些，有時可能需要嘗試不同的練習才能感覺好些。你想嘗試另一種希望對你更有幫助的嗎？</td>\n",
              "    </tr>\n",
              "    <tr>\n",
              "      <th>4</th>\n",
              "      <td>我很遺憾聽到你有所感受。會不會是因為某個事件？如果是這樣，我希望這對你來說不是太難。</td>\n",
              "      <td>了解你處理此問題的時間很重要。請問這是最近發生的事件還是以前的事件？</td>\n",
              "      <td>我明白這可能很困難。請問你是否嘗試過練習6來更好地理解你的情緒，但通過它太痛苦了？</td>\n",
              "      <td>我明白這可能很困難。請問你是否嘗試過練習11來更好地理解你的情緒，但通過它太痛苦了？</td>\n",
              "      <td>我與你的情緒保持一致，我們將了解如何克服它。我想再問你一些問題，以便更好地理解你為什麼會有這種感覺。</td>\n",
              "      <td>我將向你展示一系列不健康的情緒，但有時會向他人感受或表達這些不健康的情緒。如果你對生活中的人經歷過以下任何一種情緒，請告訴我：</td>\n",
              "      <td>在回答以下問題之前，請嘗試仔細考慮你最近經歷。最近，你是否覺得自己有責任拯救周圍的人，甚至以犧牲自己為代價來幫助他們克服問題？</td>\n",
              "      <td>我明白了，謝謝。你是否感覺你的不開心是因為別人讓你感覺不好，就像你被他們傷害了一樣，你是受害者？</td>\n",
              "      <td>謝謝你。請你考慮，你是否有試圖控制別人，讓他們做你想讓他們做的事，或者說你想聼的話？</td>\n",
              "      <td>感謝你分享這個。你能告訴我你是否覺得當事情出錯時你總是在責備和指責自己嗎？</td>\n",
              "      <td>...</td>\n",
              "      <td>謝謝你對我敞開心扉，我真的很感激。請問你是否遇到與親人或朋友的一些問題，或者你是否處理過任何其他重大的痛苦事件？</td>\n",
              "      <td>太好啦！我啱啱好有一個可以幫助最大化呢D積極情緒嘅練習，你想唔想試下啊？</td>\n",
              "      <td>謝謝你。根據你所說的，我會說你感覺{} ，我的假設是否正確？</td>\n",
              "      <td>不好意思。你實際感覺如何？你能從下面的列表中選擇它嗎？</td>\n",
              "      <td>感謝你的參與，我真的很感激，你的努力非常寶貴。祝你有美好的一天！</td>\n",
              "      <td>我認為你可以從這些練習中的任何一個中受益，讓你感覺自己是最好的自己。請告訴我你想嘗試哪一種。</td>\n",
              "      <td>謝謝，現在你可以嘗試通過你選擇的練習。當你完成後，如果你能回到我身邊並按“繼續” ，我將不勝感激。</td>\n",
              "      <td>我希望練習有所幫助。你感覺好些了還是更糟了？</td>\n",
              "      <td>我很高興它有所幫助。你認為你可能喜歡做另一個練習嗎？</td>\n",
              "      <td>我很遺憾聽到你有所感受。如果你想嘗試另一個練習，我們可以嘗試其他練習？</td>\n",
              "    </tr>\n",
              "  </tbody>\n",
              "</table>\n",
              "<p>5 rows × 45 columns</p>\n",
              "</div>"
            ],
            "text/plain": [
              "                            唔開心- 這是由特定事件引起的嗎？  \\\n",
              "0              我很遺憾聽到你感覺不舒服。有什麼特別的事情讓你有這種感覺嗎？   \n",
              "1             我很遺憾聽到你有所感受。是不是有什麼特別的事情導致了這種感覺？   \n",
              "2              我很遺憾聽到你有所感受。你能找出讓你有這種感覺的具體事件嗎？   \n",
              "3                          我明白。是否發生了特別事件使這發生？   \n",
              "4  我很遺憾聽到你有所感受。會不會是因為某個事件？如果是這樣，我希望這對你來說不是太難。   \n",
              "\n",
              "                                唔開心- 這是由最近或遙遠的事件（或事件）引起的嗎？  \\\n",
              "0                       我可以認同這一點。現在，這些感覺是最近還是很久以前發生的事件的結果？   \n",
              "1  謝謝，我明白了。你能告訴我這是最近發生的事情還是前一陣子發生的事情嗎？我希望你沒有因為這次事件而受到太多傷害。   \n",
              "2                          你現在一定很痛。你能分享一下這個事件是最近發生的還是更久以前？   \n",
              "3                                 明白了，謝謝分享。這是最近發生的還是以前的事件？   \n",
              "4                       了解你處理此問題的時間很重要。請問這是最近發生的事件還是以前的事件？   \n",
              "\n",
              "                                    唔開心 - 你最近是否嘗試過練習6，並發現由於舊事件而重新點燃了無法控制的情緒？  \\\n",
              "0  首先，你的感受對我很重要，所以我需要詢問你之前與練習的互動情況。你最近有沒有嘗試過練習6 ，如果有，它是否會因為你想起這件事而引發難以處理的情緒？   \n",
              "1             有些人發現練習6不一定對他們有幫助，所以我試圖評估它是否適合你當前的情況。你是否嘗試過練習6 ，它是否讓你感到任何負面情緒？   \n",
              "2                                          謝謝，我明白了。你會說這種負面情緒是由最近對練習6的嘗試引發的嗎？   \n",
              "3                       我想知道，最近嘗試練習6是否會引發任何不好的感覺？如果發生這種情況，我希望你不會因為那次練習而受太多苦。   \n",
              "4                                  我明白這可能很困難。請問你是否嘗試過練習6來更好地理解你的情緒，但通過它太痛苦了？   \n",
              "\n",
              "                                   唔開心- 你最近是否嘗試過練習11，並發現由於舊事件而重新點燃了無法控制的情緒？  \\\n",
              "0  首先，你的感受對我很重要，所以我需要詢問你之前與練習的互動情況。你最近有沒有嘗試過練習11 ，如果是這樣，它是否會激發你記住這一事件的困難情緒？   \n",
              "1          有些人發現練習11不一定對他們有幫助，所以我試圖評估它是否適合你當前的情況。你是否嘗試過練習11 ，它是否讓你感到任何負面情緒？   \n",
              "2                                        謝謝，我明白了。你會說這種負面情緒是由最近對練習11的嘗試引發的嗎？   \n",
              "3                      我想知道，最近嘗試練習6是否會引發任何不好的感覺？如果發生這種情況，我希望你不會因為那次練習而受太多苦。   \n",
              "4                                我明白這可能很困難。請問你是否嘗試過練習11來更好地理解你的情緒，但通過它太痛苦了？   \n",
              "\n",
              "                            唔開心- 謝謝。現在我會問一些問題來了解你的情況。  \\\n",
              "0            感謝你如此樂於助人和耐心。如果你不介意，我還有幾個問題可以幫助我進一步了解情況。   \n",
              "1                    謝謝你與我分享。我要問你一些問題，這樣我們才能找出困擾你的根源。   \n",
              "2           我感謝你的努力，儘管這對你來說一定很艱難。我現在有一些問題可以幫助你了解你的情況。   \n",
              "3                        感謝你分享你的感受。我有幾個問題可以幫助我了解你的情況。   \n",
              "4  我與你的情緒保持一致，我們將了解如何克服它。我想再問你一些問題，以便更好地理解你為什麼會有這種感覺。   \n",
              "\n",
              "                                      唔開心- 你是否對某人有強烈的感受或表達過以下任何情緒：  \\\n",
              "0            我知道這可能很困難，但如果你能與我分享這一點，我會非常感激。請問你是否對某人表達或感受到了以下強烈的情緒：   \n",
              "1                         謝謝，感謝你的耐心等待。你是否會說你對某人有強烈的感受或表達過以下任何一種情緒：   \n",
              "2                                          我很感謝你分享的感受。請問你是否有過以下感受：   \n",
              "3                      困難的情況會使我們的情緒感到緊張。你是否有任何這些強烈的感受和/或你向另一個人表達過：   \n",
              "4  我將向你展示一系列不健康的情緒，但有時會向他人感受或表達這些不健康的情緒。如果你對生活中的人經歷過以下任何一種情緒，請告訴我：   \n",
              "\n",
              "                                             唔開心——你認為你應該成為別人的救世主嗎？  \\\n",
              "0                                    你會說你傾向於幫助別人，甚至可能以犧牲自己的幸福為代價嗎？   \n",
              "1   樂於助人是很好的性格，但是，如果我們開始忘記自己的幸福，這種思想會變得不健康。你認為專注於幫助他人成長比專注於自己更重要嗎？   \n",
              "2                         感謝你的合作。請問你是否覺得必須不斷將生活中的其他人從他們自己的問題中解救出來？   \n",
              "3                我想了解一下你如何看待自己在社交圈中的角色。你是否經常覺得拯救他人是你的責任？或者別人希望你這樣？   \n",
              "4  在回答以下問題之前，請嘗試仔細考慮你最近經歷。最近，你是否覺得自己有責任拯救周圍的人，甚至以犧牲自己為代價來幫助他們克服問題？   \n",
              "\n",
              "                                唔開心——你是否認為自己是受害者，將你的負面情緒歸咎於別人？  \\\n",
              "0  我想知道你對你在這個角色有什麼看法。在目前的情況下，你是否覺得自己是一個受害者，想要將自己的負面情緒轉移到其他人身上？   \n",
              "1             我不知道你是否有過這樣的感受，你可能沒有對自己的感受承擔全部責任，從而導致你對他人進行猛烈抨擊？   \n",
              "2                          謝謝，我明白了。希望你不介意我問這個，你覺得現在每個人都在和你做對嗎？   \n",
              "3                        明白了，謝謝，那我再試圖探索一下。你是否覺得自己是這個情況或事件的受害者？   \n",
              "4             我明白了，謝謝。你是否感覺你的不開心是因為別人讓你感覺不好，就像你被他們傷害了一樣，你是受害者？   \n",
              "\n",
              "                                                        唔開心——你覺得你在試圖控制某人嗎？  \\\n",
              "0                                    負面情緒可能會導致我們想要控制別人。你是否覺得自己是在試圖控製或支配他人？   \n",
              "1                       謝謝你的回覆，這真的很有幫助。接下來請試著從外面視角看自己，你是否覺得你在控製或試圖控制別人的行為？   \n",
              "2  人在經歷強烈情緒時，很難保持客觀，但如果可以的話，我希望你嘗試一下。你是否覺得你總是更關注別人在生活中所做的事情，而不是你在生活中所做的事情？   \n",
              "3                           再次感謝，這對我的理解很有幫助。你有沒有可能在生活中試圖控製或操縱別人做你想讓他們做的事情？   \n",
              "4                               謝謝你。請你考慮，你是否有試圖控制別人，讓他們做你想讓他們做的事，或者說你想聼的話？   \n",
              "\n",
              "                                     唔開心- 當出現問題時，你是否總是責備和指責自己？  ...  \\\n",
              "0  偶爾為我們的問題責備自己是正常的，但我們應該小心不要把它變成一種壞習慣。你有沒有注意到你總是為任何出錯的事情責備自己？  ...   \n",
              "1                                 你是否覺得自己在對自己進行評判，並在逆境中總是責備自己？  ...   \n",
              "2                                     你是否總是覺得自己是錯的人，即使你不應該這樣做？  ...   \n",
              "3                 我明白了，謝謝你花時間回答這個問題。請問你是否覺得自己有一種總是將問題歸咎於自己的傾向？  ...   \n",
              "4                        感謝你分享這個。你能告訴我你是否覺得當事情出錯時你總是在責備和指責自己嗎？  ...   \n",
              "\n",
              "                               擔心- 你是否正在經歷個人危機（與親人相處時遇到困難，例如與朋友吵架）？  \\\n",
              "0  為了讓我能夠幫助你，我需要知道你的生活中是否正在發生重大事件。你覺得你現在過得特別困難，無論是在工作中，在家裡還是和朋友在一起？   \n",
              "1   感謝你耐心回答這些問題，我想專注於你現在的真實情況。這種擔心真的比我們所說的更糟糕嗎，你真的因為生活中正在發生的事情而痛苦嗎？   \n",
              "2                        看起來你可能過得很艱難，請知道你可以和我談談。你的生活中有什麼特別令人痛苦的事情嗎？   \n",
              "3                             請問你目前在生活中是否遇到了特別的困難或困難，可能會導致你過度擔心或痛苦？   \n",
              "4          謝謝你對我敞開心扉，我真的很感激。請問你是否遇到與親人或朋友的一些問題，或者你是否處理過任何其他重大的痛苦事件？   \n",
              "\n",
              "                            快樂- 這很好！讓我推薦一個你可以嘗試的練習。  \\\n",
              "0                  我很高興聽到這個！你想讓我推薦一個練習來進一步增強你的積極性嗎？   \n",
              "1                   噢，真是太好了！如果你願意，我想推薦一個符合你當前感覺的練習。   \n",
              "2  有這種感覺真好。我希望我們能抓住它並把它裝進瓶子裡。我可以推薦一個練習，它可以幫助增強你的感受。   \n",
              "3                             我看你是！如果可以的話，我想推薦一個練習。   \n",
              "4              太好啦！我啱啱好有一個可以幫助最大化呢D積極情緒嘅練習，你想唔想試下啊？   \n",
              "\n",
              "          所有情緒- 根據你所說的，我相信你正在感受{}。這個對嗎？  \\\n",
              "0         非常感謝你與我分享。從你的回答來看，你感覺{}聽起來對嗎？   \n",
              "1  明白了，謝謝從你告訴我的情況來看，我會說你現在感覺{} ，這聽起來對嗎？   \n",
              "2  謝謝你告訴我，我想確保我理解正確。我相信你有{}的感覺，你能確認一下嗎？   \n",
              "3               謝謝你分享你的情緒。我認為你感覺{}是否正確？   \n",
              "4        謝謝你。根據你所說的，我會說你感覺{} ，我的假設是否正確？   \n",
              "\n",
              "                                         所有的情緒- 對不起。請從以下最能反映你的感受的情緒中選擇：  \\\n",
              "0                                       我很抱歉造成誤解。你能告訴我這些情緒中的哪一種符合你的感受嗎？   \n",
              "1                              噢，真的很抱歉，我當時一定是誤會了。你能否通過從以下列表中選擇來告訴我你的感受：   \n",
              "2  噢，我很抱歉，我真的很感謝你告訴我我做錯了-有時可能很難。你能給我一些幫助以確保我理解嗎？這是一個列表-請讓我知道哪一個描述了你的感受：   \n",
              "3                               噢，對不起，我誤解了你的情緒。也許你可以將你當前的情緒描述為列表中的其中一種？   \n",
              "4                                           不好意思。你實際感覺如何？你能從下面的列表中選擇它嗎？   \n",
              "\n",
              "                          所有情緒- 感謝你的參與。再見  \\\n",
              "0                      感謝你今天的合作，我很感激。回頭見！   \n",
              "1  非常感謝你今天抽出時間與我們合作，希望你喜歡我們的會議。我期待著下次見到你。   \n",
              "2        非常感謝與我交談，我真的希望它做得很好。真的希望很快能再見到你！   \n",
              "3             非常感謝你參加本次會議，我非常感謝你的時間。一會兒見！   \n",
              "4        感謝你的參與，我真的很感激，你的努力非常寶貴。祝你有美好的一天！   \n",
              "\n",
              "                           所有情緒- 這是我的建議，請選擇你想嘗試的練習  \\\n",
              "0    我會給你一些練習建議，但決定必須來自你，因為你最了解自己。你能否選擇你認為最適合你的練習？   \n",
              "1             根據你與我分享的內容，我認為這些建議適合你。請你告訴我你想嘗試哪些練習？   \n",
              "2  在我們的討論之後，我列出了我想向你推薦的練習。你是否樂意查看它們並選擇你可能會考慮嘗試的練習？   \n",
              "3             我有一些你可以嘗試的推薦練習。你現在有什麼想嘗試的嗎？如果是，請選擇它。   \n",
              "4   我認為你可以從這些練習中的任何一個中受益，讓你感覺自己是最好的自己。請告訴我你想嘗試哪一種。   \n",
              "\n",
              "                                            所有情緒- 請現在嘗試通過此練習。完成後，按“繼續”  \\\n",
              "0                            請花點時間通讀一遍以理解，如果可以，請嘗試通讀整件事。完成後只需點擊“繼續”按鈕。   \n",
              "1  我建議你現在就嘗試這個練習，這可能很困難，但只要盡力而為，就會好的。完成練習後，按“繼續”按鈕，然後我們可以討論一下，如果你願意的話。   \n",
              "2                       感謝你的選擇，你現在應該可以看到練習了。請看看你是如何處理它的。完成後，你可以按“繼續” 。   \n",
              "3                                  感謝你選擇此練習。你現在願意嘗試此練習嗎？完成後，請你按“繼續”按鈕。   \n",
              "4                    謝謝，現在你可以嘗試通過你選擇的練習。當你完成後，如果你能回到我身邊並按“繼續” ，我將不勝感激。   \n",
              "\n",
              "                   所有情緒- 服用此練習後，你感覺好些還是壞些？  \\\n",
              "0  我知道執行練習可能很困難且要求很高。你現在感覺如何，你會說你感覺更好還是更糟？   \n",
              "1                 感謝你完成練習。你會說你感覺比以前更好還是更糟？   \n",
              "2                 謝謝你，歡迎回來。現在你已經完成了，你感覺如何？   \n",
              "3    非常感謝你接受本練習。完成後，你最初的感受是什麼，你感覺好些了還是更糟了？   \n",
              "4                   我希望練習有所幫助。你感覺好些了還是更糟了？   \n",
              "\n",
              "                             所有的情緒- 你想嘗試另一個練習嗎？ （病人感覺好多了）  \\\n",
              "0                                     這真是個好消息！你想嘗試不同的練習嗎？   \n",
              "1  我真的很高興這個練習讓你感覺好多了。你認為如果你嘗試另一種練習會有幫助嗎？如果是這樣，你現在想嘗試另一個嗎？   \n",
              "2                           我很開心你感覺好多了，我覺得咁樣好正！你想嘗試其他練習嗎？   \n",
              "3                      非常好。正如你暗示的那樣，你感覺心情更好，你想繼續執行另一個練習嗎？   \n",
              "4                              我很高興它有所幫助。你認為你可能喜歡做另一個練習嗎？   \n",
              "\n",
              "                             所有的情緒- 你想嘗試另一個練習嗎？ （患者感覺更糟）  \n",
              "0                                我很遺憾聽到你有所感受。我們應該嘗試另一個嗎？  \n",
              "1                 好吧，那很不幸，我道歉。有許多不同的練習可供選擇，那麼你想嘗試另一種練習嗎？  \n",
              "2                               我很遺憾聽到你有所感受消息。你想嘗試其他練習嗎？  \n",
              "3  很抱歉，這並沒有讓你感覺好些，有時可能需要嘗試不同的練習才能感覺好些。你想嘗試另一種希望對你更有幫助的嗎？  \n",
              "4                    我很遺憾聽到你有所感受。如果你想嘗試另一個練習，我們可以嘗試其他練習？  \n",
              "\n",
              "[5 rows x 45 columns]"
            ]
          },
          "execution_count": 6,
          "metadata": {},
          "output_type": "execute_result"
        }
      ],
      "source": [
        "df.head()"
      ]
    },
    {
      "cell_type": "code",
      "execution_count": 7,
      "metadata": {
        "colab": {
          "base_uri": "https://localhost:8080/"
        },
        "id": "KAimt0PwNgqQ",
        "outputId": "ff59f013-b391-4796-e70d-c7af209f08f2"
      },
      "outputs": [
        {
          "data": {
            "text/plain": [
              "264"
            ]
          },
          "execution_count": 7,
          "metadata": {},
          "output_type": "execute_result"
        }
      ],
      "source": [
        "#the dataset has 200 rows\n",
        "len(df)"
      ]
    },
    {
      "cell_type": "code",
      "execution_count": 8,
      "metadata": {
        "colab": {
          "base_uri": "https://localhost:8080/"
        },
        "id": "HKmfh9JpOH8U",
        "outputId": "50933fec-e452-485d-c048-bf1cf938a5bb"
      },
      "outputs": [
        {
          "data": {
            "text/plain": [
              "45"
            ]
          },
          "execution_count": 8,
          "metadata": {},
          "output_type": "execute_result"
        }
      ],
      "source": [
        "#and 59 attributes/columns\n",
        "len(df.columns)"
      ]
    },
    {
      "cell_type": "markdown",
      "metadata": {
        "id": "ZymL7zYHq0i8"
      },
      "source": [
        "###Age and sex distribution"
      ]
    },
    {
      "cell_type": "code",
      "execution_count": 13,
      "metadata": {
        "colab": {
          "base_uri": "https://localhost:8080/"
        },
        "id": "KBTFXRW4OuCZ",
        "outputId": "44605d62-e4fd-40e4-cf11-c0cf4a9cc536"
      },
      "outputs": [
        {
          "data": {
            "text/plain": [
              "Age\n",
              "18-24    26\n",
              "25-29    21\n",
              "30-39    61\n",
              "40-49    61\n",
              "50-59    22\n",
              "60-69     9\n",
              "dtype: int64"
            ]
          },
          "execution_count": 13,
          "metadata": {},
          "output_type": "execute_result"
        }
      ],
      "source": [
        "#Show number of participants per age group, regardless of gender\n",
        "df.groupby('Age').size()"
      ]
    },
    {
      "cell_type": "code",
      "execution_count": 14,
      "metadata": {
        "colab": {
          "base_uri": "https://localhost:8080/"
        },
        "id": "14JV4Xx5QHCL",
        "outputId": "9d5e560a-83f1-4270-d080-e58b686ee100"
      },
      "outputs": [
        {
          "data": {
            "text/plain": [
              "Sex\n",
              "Female     98\n",
              "Male      102\n",
              "dtype: int64"
            ]
          },
          "execution_count": 14,
          "metadata": {},
          "output_type": "execute_result"
        }
      ],
      "source": [
        "#Show number of participants per gender, regardless of age group\n",
        "df.groupby('Sex').size()"
      ]
    },
    {
      "cell_type": "code",
      "execution_count": 15,
      "metadata": {
        "colab": {
          "base_uri": "https://localhost:8080/"
        },
        "id": "oaAH9kNRRReO",
        "outputId": "75f0838e-7d8d-4a8d-e593-bb20a3ad7498"
      },
      "outputs": [
        {
          "data": {
            "text/plain": [
              "Sex     Age  \n",
              "Female  18-24    12\n",
              "        25-29     8\n",
              "        30-39    32\n",
              "        40-49    29\n",
              "        50-59    12\n",
              "        60-69     5\n",
              "Male    18-24    14\n",
              "        25-29    13\n",
              "        30-39    29\n",
              "        40-49    32\n",
              "        50-59    10\n",
              "        60-69     4\n",
              "dtype: int64"
            ]
          },
          "execution_count": 15,
          "metadata": {},
          "output_type": "execute_result"
        }
      ],
      "source": [
        "#show number of participants per gender and age group\n",
        "df.groupby(['Sex', 'Age']).size()"
      ]
    },
    {
      "cell_type": "code",
      "execution_count": 16,
      "metadata": {
        "colab": {
          "base_uri": "https://localhost:8080/",
          "height": 535
        },
        "id": "ZcbHFbOlTJHQ",
        "outputId": "95ca57d3-663d-4018-db0a-d2f066afc521"
      },
      "outputs": [
        {
          "data": {
            "image/png": "[encoded data removed]",
            "text/plain": [
              "<Figure size 1080x576 with 1 Axes>"
            ]
          },
          "metadata": {
            "needs_background": "light"
          },
          "output_type": "display_data"
        }
      ],
      "source": [
        "plt.rcParams.update({'font.size': 18})\n",
        "pd.crosstab(df['Age'],df['Sex']).plot.bar(figsize=(15,8), title='Number of data samples by age group and sex', \n",
        "                                             fontsize=18, rot=0, color=('orangered','mediumblue'));"
      ]
    },
    {
      "cell_type": "code",
      "execution_count": 17,
      "metadata": {
        "id": "jQaAtBTgBOX5"
      },
      "outputs": [],
      "source": [
        "frst_df = df.iloc[ 0:50, : ]\n",
        "scnd_df = df.iloc[ 50:100, :]\n",
        "thrd_df = df.iloc[ 100:150, :]\n",
        "frth_df = df.iloc[ 150:200, :]"
      ]
    },
    {
      "cell_type": "code",
      "execution_count": 18,
      "metadata": {
        "colab": {
          "base_uri": "https://localhost:8080/"
        },
        "id": "Lrd6HtapXMBf",
        "outputId": "7d5147ed-a60b-4949-e3ef-b5a03c3a2638"
      },
      "outputs": [
        {
          "name": "stdout",
          "output_type": "stream",
          "text": [
            "Sex     Age  \n",
            "Female  18-24     1\n",
            "        25-29     3\n",
            "        30-39     9\n",
            "        40-49     7\n",
            "        50-59     4\n",
            "        60-69     2\n",
            "Male    25-29     2\n",
            "        30-39    11\n",
            "        40-49     8\n",
            "        50-59     3\n",
            "dtype: int64\n",
            "-------------------\n",
            "Sex     Age  \n",
            "Female  18-24    1\n",
            "        25-29    3\n",
            "        30-39    7\n",
            "        40-49    6\n",
            "        50-59    1\n",
            "        60-69    3\n",
            "Male    18-24    3\n",
            "        25-29    6\n",
            "        30-39    9\n",
            "        40-49    8\n",
            "        50-59    3\n",
            "dtype: int64\n",
            "-------------------\n",
            "Sex     Age  \n",
            "Female  18-24    2\n",
            "        25-29    2\n",
            "        30-39    9\n",
            "        40-49    9\n",
            "        50-59    3\n",
            "Male    18-24    5\n",
            "        25-29    5\n",
            "        30-39    3\n",
            "        40-49    8\n",
            "        50-59    1\n",
            "        60-69    3\n",
            "dtype: int64\n",
            "-------------------\n",
            "Sex     Age  \n",
            "Female  18-24    8\n",
            "        30-39    7\n",
            "        40-49    7\n",
            "        50-59    4\n",
            "Male    18-24    6\n",
            "        30-39    6\n",
            "        40-49    8\n",
            "        50-59    3\n",
            "        60-69    1\n",
            "dtype: int64\n",
            "-------------------\n"
          ]
        }
      ],
      "source": [
        "#count occurrences of each gender and age for each question subset in the dataset\n",
        "for i in (frst_df, scnd_df, thrd_df, frth_df):\n",
        "  print(i.groupby(['Sex', 'Age']).size())\n",
        "  print('-------------------')"
      ]
    },
    {
      "cell_type": "code",
      "execution_count": 19,
      "metadata": {
        "id": "DjFLKRjGRvsR"
      },
      "outputs": [],
      "source": [
        "#create sub-dataframes for each 'persona'\n",
        "\n",
        "#for first part:\n",
        "younger_male_df_1 = frst_df.loc[(frst_df['Age'].isin(['18-24', '25-29', '30-39'])) & (frst_df['Sex'] == 'Male')].reset_index() \n",
        "younger_female_df_1 = frst_df.loc[(frst_df['Age'].isin(['18-24', '25-29', '30-39'])) & (frst_df['Sex'] == 'Female')].reset_index() \n",
        "older_male_df_1 = frst_df.loc[(frst_df['Age'].isin(['40-49', '50-59', '60-69'])) & (frst_df['Sex'] == 'Male')].reset_index() \n",
        "older_female_df_1 = frst_df.loc[(frst_df['Age'].isin(['40-49', '50-59', '60-69'])) & (frst_df['Sex'] == 'Female')].reset_index() \n",
        "\n",
        "#for second part:\n",
        "younger_male_df_2 = scnd_df.loc[(scnd_df['Age'].isin(['18-24', '25-29', '30-39'])) & (scnd_df['Sex'] == 'Male')].reset_index() \n",
        "younger_female_df_2 = scnd_df.loc[(scnd_df['Age'].isin(['18-24', '25-29', '30-39'])) & (scnd_df['Sex'] == 'Female')].reset_index() \n",
        "older_male_df_2 = scnd_df.loc[(scnd_df['Age'].isin(['40-49', '50-59', '60-69'])) & (scnd_df['Sex'] == 'Male')].reset_index() \n",
        "older_female_df_2 = scnd_df.loc[(scnd_df['Age'].isin(['40-49', '50-59', '60-69'])) & (scnd_df['Sex'] == 'Female')].reset_index() \n",
        "\n",
        "#for third part:\n",
        "younger_male_df_3 = thrd_df.loc[(thrd_df['Age'].isin(['18-24', '25-29', '30-39'])) & (thrd_df['Sex'] == 'Male')].reset_index() \n",
        "younger_female_df_3 = thrd_df.loc[(thrd_df['Age'].isin(['18-24', '25-29', '30-39'])) & (thrd_df['Sex'] == 'Female')].reset_index() \n",
        "older_male_df_3 = thrd_df.loc[(thrd_df['Age'].isin(['40-49', '50-59', '60-69'])) & (thrd_df['Sex'] == 'Male')].reset_index() \n",
        "older_female_df_3 = thrd_df.loc[(thrd_df['Age'].isin(['40-49', '50-59', '60-69'])) & (thrd_df['Sex'] == 'Female')].reset_index() \n",
        "\n",
        "#for fourth part:\n",
        "younger_male_df_4 = frth_df.loc[(frth_df['Age'].isin(['18-24', '25-29', '30-39'])) & (frth_df['Sex'] == 'Male')].reset_index() \n",
        "younger_female_df_4 = frth_df.loc[(frth_df['Age'].isin(['18-24', '25-29', '30-39'])) & (frth_df['Sex'] == 'Female')].reset_index() \n",
        "older_male_df_4 = frth_df.loc[(frth_df['Age'].isin(['40-49', '50-59', '60-69'])) & (frth_df['Sex'] == 'Male')].reset_index() \n",
        "older_female_df_4 = frth_df.loc[(frth_df['Age'].isin(['40-49', '50-59', '60-69'])) & (frth_df['Sex'] == 'Female')].reset_index() "
      ]
    },
    {
      "cell_type": "code",
      "execution_count": 20,
      "metadata": {
        "colab": {
          "base_uri": "https://localhost:8080/"
        },
        "id": "nnGfyZ78TrCS",
        "outputId": "b6a9eae4-a863-429c-cb73-743e2dc23df3"
      },
      "outputs": [
        {
          "name": "stdout",
          "output_type": "stream",
          "text": [
            "13\n",
            "--\n",
            "13\n",
            "--\n",
            "11\n",
            "--\n",
            "13\n",
            "--\n",
            "18\n",
            "--\n",
            "11\n",
            "--\n",
            "11\n",
            "--\n",
            "10\n",
            "--\n",
            "13\n",
            "--\n",
            "13\n",
            "--\n",
            "12\n",
            "--\n",
            "12\n",
            "--\n",
            "12\n",
            "--\n",
            "15\n",
            "--\n",
            "12\n",
            "--\n",
            "11\n",
            "--\n"
          ]
        }
      ],
      "source": [
        "#check number of entries for each persona\n",
        "for i in [younger_male_df_1, younger_female_df_1, older_male_df_1, older_female_df_1, \n",
        "          younger_male_df_2, younger_female_df_2, older_male_df_2, older_female_df_2,\n",
        "          younger_male_df_3, younger_female_df_3, older_male_df_3, older_female_df_3,\n",
        "          younger_male_df_4, younger_female_df_4, older_male_df_4, older_female_df_4]:\n",
        "  print(len(i))\n",
        "  print('--')\n",
        "  "
      ]
    },
    {
      "cell_type": "code",
      "execution_count": 21,
      "metadata": {
        "colab": {
          "base_uri": "https://localhost:8080/",
          "height": 35
        },
        "id": "JHrsqMVIXQOu",
        "outputId": "fb8011f3-e4e5-4a5f-ded6-ebcc6bc6da14"
      },
      "outputs": [
        {
          "data": {
            "application/vnd.google.colaboratory.intrinsic+json": {
              "type": "string"
            },
            "text/plain": [
              "'I am feeling a bit down'"
            ]
          },
          "execution_count": 21,
          "metadata": {},
          "output_type": "execute_result"
        }
      ],
      "source": [
        "#print a cell\n",
        "younger_male_df_1.iloc[0]['Sad - Patient response 1']"
      ]
    },
    {
      "cell_type": "markdown",
      "metadata": {
        "id": "9pdz--THqnfm"
      },
      "source": [
        "###Count number of question rewritings in the dataset, for all questions"
      ]
    },
    {
      "cell_type": "code",
      "execution_count": 22,
      "metadata": {
        "id": "_6WdkhQIpQiM"
      },
      "outputs": [],
      "source": [
        "base_questions = [\"Was this caused by a specific event/s?\", \"Was this caused by a recent or distant event (or events)?\", \n",
        "                  \"Have you recently attempted protocol 6 and found this reignited unmanageable emotions as a result of old events?\",\n",
        "                  \"Have you recently attempted protocol 11 and found this reignited unmanageable emotions as a result of old events?\",\n",
        "                  \"Thank you. Now I will ask some questions to understand your situation.\", \"Have you strongly felt or expressed any of the following emotions towards someone:\",\n",
        "                  \"Do you believe that you should be the saviour of someone else?\", \"Do you see yourself as the victim, blaming someone else for how negative you feel?\",\n",
        "                  \"Do you feel that you are trying to control someone?\", \"Are you always blaming and accusing yourself for when something goes wrong?\",\n",
        "                  \"In previous conversations, have you considered other viewpoints presented?\", \n",
        "                  \"Are you undergoing a personal crisis (experiencing difficulties with loved ones e.g. falling out with friends)?\",\n",
        "                  \"That's Good! Let me recommend a protocol you can attempt.\", \"From what you have said I believe you are feeling {}. Is this correct?\",\n",
        "                  \"I am sorry. Please select from the emotions below the one that best reflects what you are feeling:\", \"Thank you for taking part. See you soon\",\n",
        "                  \"Here are my recommendations, please select the protocol that you would like to attempt\", \n",
        "                  \"Please try to go through this protocol now. When you finish, press 'continue'\", \"Do you feel better or worse after having taken this protocol?\", \n",
        "                  \"Would you like to attempt another protocol? (Patient feels better)\", \"Would you like to attempt another protocol? (Patient feels worse)\"]"
      ]
    },
    {
      "cell_type": "code",
      "execution_count": 8,
      "metadata": {
        "id": "9aEDxqkEq9XK"
      },
      "outputs": [],
      "source": [
        "question_cols = []\n",
        "for q in base_questions:\n",
        "   question = [col for col in df.columns if q in col]\n",
        "   question_cols.append(question)"
      ]
    },
    {
      "cell_type": "code",
      "execution_count": 9,
      "metadata": {
        "colab": {
          "base_uri": "https://localhost:8080/"
        },
        "id": "mabFu48ys44I",
        "outputId": "0f3c5643-2bae-400c-af98-4de0dc2ffe5b"
      },
      "outputs": [
        {
          "name": "stdout",
          "output_type": "stream",
          "text": [
            "Sad - Was this caused by a specific event/s?        50\n",
            "Angry - Was this caused by a specific event/s?      44\n",
            "Anxious - Was this caused by a specific event/s?    49\n",
            "dtype: int64\n",
            "Sad - Was this caused by a recent or distant event (or events)?        47\n",
            "Angry - Was this caused by a recent or distant event (or events)?      44\n",
            "Anxious - Was this caused by a recent or distant event (or events)?    50\n",
            "dtype: int64\n",
            "Sad - Have you recently attempted protocol 6 and found this reignited unmanageable emotions as a result of old events?        48\n",
            "Angry - Have you recently attempted protocol 6 and found this reignited unmanageable emotions as a result of old events?      42\n",
            "Anxious - Have you recently attempted protocol 6 and found this reignited unmanageable emotions as a result of old events?    49\n",
            "dtype: int64\n",
            "Sad - Have you recently attempted protocol 11 and found this reignited unmanageable emotions as a result of old events?        48\n",
            "Angry - Have you recently attempted protocol 11 and found this reignited unmanageable emotions as a result of old events?      42\n",
            "Anxious - Have you recently attempted protocol 11 and found this reignited unmanageable emotions as a result of old events?    49\n",
            "dtype: int64\n",
            "Sad - Thank you. Now I will ask some questions to understand your situation.        50\n",
            "Angry - Thank you. Now I will ask some questions to understand your situation.      45\n",
            "Anxious - Thank you. Now I will ask some questions to understand your situation.    50\n",
            "dtype: int64\n",
            "Sad - Have you strongly felt or expressed any of the following emotions towards someone:        50\n",
            "Angry - Have you strongly felt or expressed any of the following emotions towards someone:      42\n",
            "Anxious - Have you strongly felt or expressed any of the following emotions towards someone:    50\n",
            "dtype: int64\n",
            "Sad - Do you believe that you should be the saviour of someone else?        48\n",
            "Angry - Do you believe that you should be the saviour of someone else?      44\n",
            "Anxious - Do you believe that you should be the saviour of someone else?    49\n",
            "dtype: int64\n",
            "Sad - Do you see yourself as the victim, blaming someone else for how negative you feel?        48\n",
            "Angry - Do you see yourself as the victim, blaming someone else for how negative you feel?      43\n",
            "Anxious - Do you see yourself as the victim, blaming someone else for how negative you feel?    50\n",
            "dtype: int64\n",
            "Sad - Do you feel that you are trying to control someone?        47\n",
            "Angry - Do you feel that you are trying to control someone?      43\n",
            "Anxious - Do you feel that you are trying to control someone?    50\n",
            "dtype: int64\n",
            "Sad - Are you always blaming and accusing yourself for when something goes wrong?        49\n",
            "Angry - Are you always blaming and accusing yourself for when something goes wrong?      45\n",
            "Anxious - Are you always blaming and accusing yourself for when something goes wrong?    50\n",
            "dtype: int64\n",
            "Sad - In previous conversations, have you considered other viewpoints presented?        47\n",
            "Angry - In previous conversations, have you considered other viewpoints presented?      44\n",
            "Anxious - In previous conversations, have you considered other viewpoints presented?    50\n",
            "dtype: int64\n",
            "Sad - Are you undergoing a personal crisis (experiencing difficulties with loved ones e.g. falling out with friends)?        49\n",
            "Angry - Are you undergoing a personal crisis (experiencing difficulties with loved ones e.g. falling out with friends)?      42\n",
            "Anxious - Are you undergoing a personal crisis (experiencing difficulties with loved ones e.g. falling out with friends)?    50\n",
            "dtype: int64\n",
            "Happy - That's Good! Let me recommend a protocol you can attempt.    49\n",
            "dtype: int64\n",
            "All emotions - From what you have said I believe you are feeling {}. Is this correct?    50\n",
            "dtype: int64\n",
            "All emotions - I am sorry. Please select from the emotions below the one that best reflects what you are feeling:    50\n",
            "dtype: int64\n",
            "All emotions - Thank you for taking part. See you soon    50\n",
            "dtype: int64\n",
            "All emotions - Here are my recommendations, please select the protocol that you would like to attempt    49\n",
            "dtype: int64\n",
            "All emotions - Please try to go through this protocol now. When you finish, press 'continue'    49\n",
            "dtype: int64\n",
            "All emotions - Do you feel better or worse after having taken this protocol?    49\n",
            "dtype: int64\n",
            "All emotions - Would you like to attempt another protocol? (Patient feels better)    50\n",
            "dtype: int64\n",
            "All emotions - Would you like to attempt another protocol? (Patient feels worse)    50\n",
            "dtype: int64\n"
          ]
        }
      ],
      "source": [
        "#print number of non-NaN entries in each question column\n",
        "for q in base_questions:\n",
        "   question = [col for col in df.columns if q in col]\n",
        "   count = df[question].count()\n",
        "   print(count)"
      ]
    },
    {
      "cell_type": "code",
      "execution_count": 24,
      "metadata": {
        "colab": {
          "base_uri": "https://localhost:8080/"
        },
        "id": "6glQLPS8yPg_",
        "outputId": "27ad7691-ac47-4a56-9738-2ce0519dddb6"
      },
      "outputs": [
        {
          "name": "stdout",
          "output_type": "stream",
          "text": [
            "2143\n",
            "45\n"
          ]
        }
      ],
      "source": [
        "#calculate total of all rewritten questions in the dataset (as well as the number of base questions)\n",
        "tot_count = 0 #count the number of total rewritten questions (disregarding missing data)\n",
        "tot_base_questions = 0 #count the number of base questions\n",
        "for i in question_cols:\n",
        "  for j in i:\n",
        "    count = df[j].count()\n",
        "    tot_count += count\n",
        "    tot_base_questions += 1\n",
        "\n",
        "print(tot_count)\n",
        "print(tot_base_questions)"
      ]
    },
    {
      "cell_type": "markdown",
      "metadata": {
        "id": "jbEZ0owPnwLG"
      },
      "source": [
        "###Count number of sentences collected from all the utterances in a column for each persona"
      ]
    },
    {
      "cell_type": "code",
      "execution_count": 25,
      "metadata": {
        "id": "MFTyYA4lnu9O"
      },
      "outputs": [],
      "source": [
        "df = pd.read_csv('drive/MyDrive/empatheticPersonas.csv')"
      ]
    },
    {
      "cell_type": "code",
      "execution_count": 26,
      "metadata": {
        "id": "mlnddmdooDW0"
      },
      "outputs": [],
      "source": [
        "#create dataframes for each persona\n",
        "younger_male_df = df.loc[(df['Age'].isin(['18-24', '25-29', '30-39'])) & (df['Sex'] == 'Male')].reset_index() \n",
        "younger_female_df = df.loc[(df['Age'].isin(['18-24', '25-29', '30-39'])) & (df['Sex'] == 'Female')].reset_index() \n",
        "older_male_df = df.loc[(df['Age'].isin(['40-49', '50-59', '60-69'])) & (df['Sex'] == 'Male')].reset_index() \n",
        "older_female_df = df.loc[(df['Age'].isin(['40-49', '50-59', '60-69'])) & (df['Sex'] == 'Female')].reset_index() "
      ]
    },
    {
      "cell_type": "code",
      "execution_count": 27,
      "metadata": {
        "id": "XaWXYMBo8nSl"
      },
      "outputs": [],
      "source": [
        "#drop unnecessary columns from the personas dataframes\n",
        "df.drop(['Sex', 'Age', 'Sad - Patient response 1', 'Sad - Patient response 2', 'Sad - Patient response 3', \n",
        "          'Angry - Patient response 1', 'Angry - Patient response 2', 'Angry - Patient response 3', \n",
        "          'Anxious - Patient response 1', 'Anxious - Patient response 2', 'Anxious - Patient response 3', \n",
        "          'Happy - Patient response 1', 'Happy - Patient response 2', 'Happy - Patient response 3'], axis=1, inplace=True)\n",
        "for i in [younger_male_df, younger_female_df, older_male_df, older_female_df]:\n",
        "  i.drop(['index', 'Sex', 'Age', 'Sad - Patient response 1', 'Sad - Patient response 2', 'Sad - Patient response 3', \n",
        "          'Angry - Patient response 1', 'Angry - Patient response 2', 'Angry - Patient response 3', \n",
        "          'Anxious - Patient response 1', 'Anxious - Patient response 2', 'Anxious - Patient response 3', \n",
        "          'Happy - Patient response 1', 'Happy - Patient response 2', 'Happy - Patient response 3'], axis=1, inplace=True)"
      ]
    },
    {
      "cell_type": "code",
      "execution_count": 28,
      "metadata": {
        "colab": {
          "base_uri": "https://localhost:8080/"
        },
        "id": "m8J8hcG8-CXz",
        "outputId": "a6cd15f3-c44c-4a3f-d995-6594d72eb25f"
      },
      "outputs": [
        {
          "name": "stdout",
          "output_type": "stream",
          "text": [
            "[69, 67, 64, 64, 94, 64, 54, 61, 58, 57, 54, 58, 67, 61, 55, 55, 84, 57, 52, 57, 56, 55, 52, 53, 88, 79, 77, 76, 99, 76, 70, 69, 70, 65, 63, 70, 91, 76, 97, 94, 98, 96, 76, 85, 87]\n",
            "[19, 17, 19, 19, 25, 15, 18, 21, 18, 19, 17, 21, 18, 16, 16, 16, 26, 17, 18, 21, 18, 19, 17, 20, 25, 21, 20, 20, 25, 18, 17, 19, 17, 16, 16, 17, 23, 18, 24, 22, 26, 26, 21, 25, 24]\n",
            "[20, 19, 15, 15, 26, 17, 13, 13, 13, 13, 13, 12, 17, 17, 15, 15, 20, 14, 11, 14, 13, 12, 11, 12, 24, 23, 22, 21, 26, 22, 21, 20, 22, 20, 18, 20, 27, 24, 28, 30, 24, 25, 17, 24, 23]\n",
            "[16, 18, 13, 13, 21, 16, 12, 14, 13, 13, 13, 12, 16, 11, 9, 9, 17, 10, 13, 12, 15, 13, 13, 11, 22, 16, 17, 17, 24, 19, 16, 14, 14, 15, 15, 17, 24, 20, 24, 22, 24, 21, 19, 23, 24]\n",
            "[16, 16, 17, 17, 25, 16, 11, 15, 14, 12, 11, 14, 16, 17, 15, 15, 24, 16, 10, 10, 10, 11, 11, 10, 18, 19, 18, 18, 25, 17, 18, 16, 17, 15, 14, 16, 21, 17, 22, 22, 24, 24, 19, 21, 22]\n"
          ]
        }
      ],
      "source": [
        "#make individual augmented utterance datasets\n",
        "#and count how many self-contained sentences in corpus for each persona and each column\n",
        "\n",
        "counter=0\n",
        "all_counts=[]\n",
        "\n",
        "for i in [df, younger_male_df, younger_female_df, older_male_df, older_female_df]:\n",
        "  aug_df = pd.DataFrame()\n",
        "  col_index = 0\n",
        "  for column in i:\n",
        "    #initialise list for all augmented sentences\n",
        "    all_sentences = []\n",
        "\n",
        "    #create list to hold part of sentences\n",
        "    first_sentence = []\n",
        "    second_sentence = []\n",
        "    third_sentence = []\n",
        "\n",
        "    #split each sentence in column at full stop, exclamation point or question mark\n",
        "    for j in i[column]:\n",
        "      #attempt split only if entry is not NaN\n",
        "      if pd.notna(j):\n",
        "        #temp_list = re.split(r'(?<=\\w\\[.])\\s', i)\n",
        "        temp_list = re.split('(?<=[.?!]) +', j)\n",
        "        temp_list[0] = temp_list[0] + ' '\n",
        "        if len(temp_list) > 1:\n",
        "          temp_list[1] = temp_list[1] + ' '\n",
        "        #if we found three sentences, put them in the relevant list\n",
        "        if len(temp_list) == 3:\n",
        "          first_sentence.append(temp_list[0])\n",
        "          second_sentence.append(temp_list[1])\n",
        "          third_sentence.append(temp_list[2])\n",
        "        #if we found two sentences we check whether the first is a question\n",
        "        #to determine where to assign them\n",
        "        elif len(temp_list) == 2:\n",
        "          if '?' in temp_list[0]:\n",
        "            second_sentence.append(temp_list[0])\n",
        "            third_sentence.append(temp_list[1])\n",
        "          else:\n",
        "            first_sentence.append(temp_list[0])\n",
        "            second_sentence.append(temp_list[1])\n",
        "        #if only one sentece was found, put it in the second list\n",
        "        else:\n",
        "          second_sentence.append(temp_list[0])\n",
        "\n",
        "    #convert to set and back to list to eliminate any duplicate sentences\n",
        "    first_sentence_set = set(first_sentence)\n",
        "    first_sentence = list(first_sentence_set)\n",
        "    second_sentence_set = set(second_sentence)\n",
        "    second_sentence = list(second_sentence_set)\n",
        "    third_sentence_set = set(third_sentence)\n",
        "    third_sentence = list(third_sentence_set)\n",
        "\n",
        "\n",
        "    all_counts.append(len(first_sentence) + len(second_sentence) + len(third_sentence))\n",
        "\n",
        "\n",
        "    #finally, append empty string to first_sentence and third_sentence list, since some questions do not have a first or 3rd sentence\n",
        "    first_sentence.append('')\n",
        "    third_sentence.append('')\n",
        "  \n",
        "    for k in first_sentence:\n",
        "      for l in second_sentence:\n",
        "        for m in third_sentence:\n",
        "          compstring = k + l + m\n",
        "          all_sentences.append(compstring)\n",
        "  \n",
        "    newdf = pd.DataFrame({col_index: all_sentences})\n",
        "    aug_df = pd.concat([aug_df, newdf], ignore_index=True, axis=1)\n",
        "    col_index += 1\n",
        "\n",
        "\n",
        "  filename = 'drive/MyDrive/df'+ str(counter) + '.csv'\n",
        "  aug_df.to_csv(filename, index=False)  \n",
        "  counter += 1\n",
        " \n",
        "print(all_counts[:45])\n",
        "print(all_counts[45:90])\n",
        "print(all_counts[90:135])\n",
        "print(all_counts[135:180])\n",
        "print(all_counts[180:])"
      ]
    },
    {
      "cell_type": "code",
      "execution_count": 29,
      "metadata": {
        "colab": {
          "base_uri": "https://localhost:8080/"
        },
        "id": "MCj9METjaPb1",
        "outputId": "ba91a99c-fa99-4706-e456-fd21c65cb88f"
      },
      "outputs": [
        {
          "name": "stdout",
          "output_type": "stream",
          "text": [
            "2143\n",
            "94993\n"
          ]
        }
      ],
      "source": [
        "#count utterances in whole dataset before and after augmentation (Kai persona)\n",
        "aug_df_kai = pd.read_csv('drive/MyDrive/df0.csv')\n",
        "\n",
        "count=0\n",
        "for i, row in df.iterrows():\n",
        "  for j in row:\n",
        "    if pd.notna(j):\n",
        "      count += 1\n",
        "\n",
        "aug_count=0\n",
        "for i, row in aug_df_kai.iterrows():\n",
        "  for j in row:\n",
        "    if pd.notna(j):\n",
        "      aug_count += 1\n",
        "\n",
        "print(count)\n",
        "print(aug_count)"
      ]
    },
    {
      "cell_type": "code",
      "execution_count": 30,
      "metadata": {
        "colab": {
          "base_uri": "https://localhost:8080/"
        },
        "id": "iJYr_qqQeL0t",
        "outputId": "a79603ed-141e-4000-9e4a-40e026be348c"
      },
      "outputs": [
        {
          "name": "stdout",
          "output_type": "stream",
          "text": [
            "614\n",
            "4747\n"
          ]
        }
      ],
      "source": [
        "#Arman persona\n",
        "\n",
        "aug_df_arman = pd.read_csv('drive/MyDrive/df1.csv')\n",
        "\n",
        "count=0\n",
        "for i, row in younger_male_df.iterrows():\n",
        "  for j in row:\n",
        "    if pd.notna(j):\n",
        "      count += 1\n",
        "\n",
        "aug_count=0\n",
        "for i, row in aug_df_arman.iterrows():\n",
        "  for j in row:\n",
        "    if pd.notna(j):\n",
        "      aug_count += 1\n",
        "\n",
        "print(count)\n",
        "print(aug_count)"
      ]
    },
    {
      "cell_type": "code",
      "execution_count": 31,
      "metadata": {
        "colab": {
          "base_uri": "https://localhost:8080/"
        },
        "id": "Vgnec59Egh5j",
        "outputId": "f98f1212-e7fc-442f-8066-2877247de122"
      },
      "outputs": [
        {
          "name": "stdout",
          "output_type": "stream",
          "text": [
            "554\n",
            "5172\n"
          ]
        }
      ],
      "source": [
        "#Olivia\n",
        "\n",
        "aug_df_olivia = pd.read_csv('drive/MyDrive/df2.csv')\n",
        "\n",
        "count=0\n",
        "for i, row in younger_female_df.iterrows():\n",
        "  for j in row:\n",
        "    if pd.notna(j):\n",
        "      count += 1\n",
        "\n",
        "aug_count=0\n",
        "for i, row in aug_df_olivia.iterrows():\n",
        "  for j in row:\n",
        "    if pd.notna(j):\n",
        "      aug_count += 1\n",
        "\n",
        "print(count)\n",
        "print(aug_count)"
      ]
    },
    {
      "cell_type": "code",
      "execution_count": 32,
      "metadata": {
        "colab": {
          "base_uri": "https://localhost:8080/"
        },
        "id": "KHgVUIfkgv_h",
        "outputId": "b0e1829e-7bf7-4a3c-9ec0-bebe0ffe7fa5"
      },
      "outputs": [
        {
          "name": "stdout",
          "output_type": "stream",
          "text": [
            "480\n",
            "3980\n"
          ]
        }
      ],
      "source": [
        "#Robert\n",
        "\n",
        "aug_df_robert = pd.read_csv('drive/MyDrive/df3.csv')\n",
        "\n",
        "count=0\n",
        "for i, row in older_male_df.iterrows():\n",
        "  for j in row:\n",
        "    if pd.notna(j):\n",
        "      count += 1\n",
        "\n",
        "aug_count=0\n",
        "for i, row in aug_df_robert.iterrows():\n",
        "  for j in row:\n",
        "    if pd.notna(j):\n",
        "      aug_count += 1\n",
        "\n",
        "print(count)\n",
        "print(aug_count)"
      ]
    },
    {
      "cell_type": "code",
      "execution_count": 33,
      "metadata": {
        "colab": {
          "base_uri": "https://localhost:8080/"
        },
        "id": "Lx2X-5pAg65u",
        "outputId": "e2cd5329-fedd-4321-e14e-a25e39eb6d6e"
      },
      "outputs": [
        {
          "name": "stdout",
          "output_type": "stream",
          "text": [
            "495\n",
            "4123\n"
          ]
        }
      ],
      "source": [
        "#Gabrielle\n",
        "\n",
        "aug_df_gabrielle = pd.read_csv('drive/MyDrive/df4.csv')\n",
        "\n",
        "count=0\n",
        "for i, row in older_female_df.iterrows():\n",
        "  for j in row:\n",
        "    if pd.notna(j):\n",
        "      count += 1\n",
        "\n",
        "aug_count=0\n",
        "for i, row in aug_df_gabrielle.iterrows():\n",
        "  for j in row:\n",
        "    if pd.notna(j):\n",
        "      aug_count += 1\n",
        "\n",
        "print(count)\n",
        "print(aug_count)"
      ]
    },
    {
      "cell_type": "markdown",
      "metadata": {
        "id": "xaL8Z2kc3y-F"
      },
      "source": [
        "##Analysis of the empathy annotated portion of the dataset"
      ]
    },
    {
      "cell_type": "code",
      "execution_count": 34,
      "metadata": {
        "id": "6kmySQp23_4-"
      },
      "outputs": [],
      "source": [
        "emp_labels = pd.read_csv('drive/MyDrive/empathy_labelled_ds.csv')"
      ]
    },
    {
      "cell_type": "code",
      "execution_count": 35,
      "metadata": {
        "colab": {
          "base_uri": "https://localhost:8080/",
          "height": 221
        },
        "id": "gpR95frn4RKc",
        "outputId": "97f89308-2e13-45d9-acde-46c6dff2d0ef"
      },
      "outputs": [
        {
          "data": {
            "text/html": [
              "<div>\n",
              "<style scoped>\n",
              "    .dataframe tbody tr th:only-of-type {\n",
              "        vertical-align: middle;\n",
              "    }\n",
              "\n",
              "    .dataframe tbody tr th {\n",
              "        vertical-align: top;\n",
              "    }\n",
              "\n",
              "    .dataframe thead th {\n",
              "        text-align: right;\n",
              "    }\n",
              "</style>\n",
              "<table border=\"1\" class=\"dataframe\">\n",
              "  <thead>\n",
              "    <tr style=\"text-align: right;\">\n",
              "      <th></th>\n",
              "      <th>response</th>\n",
              "      <th>annotator1_score</th>\n",
              "      <th>annotator2_score</th>\n",
              "      <th>annotator3_score</th>\n",
              "      <th>empathy_score</th>\n",
              "    </tr>\n",
              "  </thead>\n",
              "  <tbody>\n",
              "    <tr>\n",
              "      <th>0</th>\n",
              "      <td>When you've selected the protocol you want to try, please begin the protocol. When you have finished, you may press 'continue' to carry on.</td>\n",
              "      <td>1</td>\n",
              "      <td>2</td>\n",
              "      <td>2</td>\n",
              "      <td>2</td>\n",
              "    </tr>\n",
              "    <tr>\n",
              "      <th>1</th>\n",
              "      <td>Did something happen to you?</td>\n",
              "      <td>0</td>\n",
              "      <td>0</td>\n",
              "      <td>1</td>\n",
              "      <td>0</td>\n",
              "    </tr>\n",
              "    <tr>\n",
              "      <th>2</th>\n",
              "      <td>Thank you for taking part, I really appreciate it and your efforts are very valuable. Have a good day!</td>\n",
              "      <td>2</td>\n",
              "      <td>1</td>\n",
              "      <td>2</td>\n",
              "      <td>2</td>\n",
              "    </tr>\n",
              "    <tr>\n",
              "      <th>3</th>\n",
              "      <td>I am grateful for your participation. I hope to work with you again soon.</td>\n",
              "      <td>1</td>\n",
              "      <td>2</td>\n",
              "      <td>2</td>\n",
              "      <td>2</td>\n",
              "    </tr>\n",
              "    <tr>\n",
              "      <th>4</th>\n",
              "      <td>Thank you for being so open, I'm trying to determine the best way to help and know how hard it is to revisit trauma. I would like to know if Protocol 6 proved too painful for you?</td>\n",
              "      <td>2</td>\n",
              "      <td>2</td>\n",
              "      <td>2</td>\n",
              "      <td>2</td>\n",
              "    </tr>\n",
              "  </tbody>\n",
              "</table>\n",
              "</div>"
            ],
            "text/plain": [
              "                                                                                                                                                                              response  ...  empathy_score\n",
              "0                                          When you've selected the protocol you want to try, please begin the protocol. When you have finished, you may press 'continue' to carry on.  ...              2\n",
              "1                                                                                                                                                         Did something happen to you?  ...              0\n",
              "2                                                                               Thank you for taking part, I really appreciate it and your efforts are very valuable. Have a good day!  ...              2\n",
              "3                                                                                                            I am grateful for your participation. I hope to work with you again soon.  ...              2\n",
              "4  Thank you for being so open, I'm trying to determine the best way to help and know how hard it is to revisit trauma. I would like to know if Protocol 6 proved too painful for you?  ...              2\n",
              "\n",
              "[5 rows x 5 columns]"
            ]
          },
          "execution_count": 35,
          "metadata": {},
          "output_type": "execute_result"
        }
      ],
      "source": [
        "emp_labels.head()"
      ]
    },
    {
      "cell_type": "code",
      "execution_count": 36,
      "metadata": {
        "colab": {
          "base_uri": "https://localhost:8080/"
        },
        "id": "m2Fx0KMT4sxq",
        "outputId": "a49464c3-bdb0-4813-9bd7-dd598ae4b6a8"
      },
      "outputs": [
        {
          "data": {
            "text/plain": [
              "1100"
            ]
          },
          "execution_count": 36,
          "metadata": {},
          "output_type": "execute_result"
        }
      ],
      "source": [
        "len(emp_labels)"
      ]
    },
    {
      "cell_type": "code",
      "execution_count": 37,
      "metadata": {
        "id": "gLyK1Sbv4W-A"
      },
      "outputs": [],
      "source": [
        "#check how many sentences each utterance contains\n",
        "n_sent_list = []\n",
        "score_list = []\n",
        "for index, row in emp_labels.iterrows():\n",
        "  count=0\n",
        "  for char in row['response']:\n",
        "    if char == '.' or char == '?' or char == '!' or char == ':':\n",
        "      count += 1\n",
        "  n_sent_list.append(count)\n",
        "  score_list.append(row['empathy_score'])\n",
        "new_df = pd.DataFrame({'number of sentences': n_sent_list, 'empathy score': score_list})\n",
        "  "
      ]
    },
    {
      "cell_type": "code",
      "execution_count": 38,
      "metadata": {
        "colab": {
          "base_uri": "https://localhost:8080/",
          "height": 204
        },
        "id": "jwbia_b649dZ",
        "outputId": "47cf71f0-94d3-47e2-bc01-302b7331b712"
      },
      "outputs": [
        {
          "data": {
            "text/html": [
              "<div>\n",
              "<style scoped>\n",
              "    .dataframe tbody tr th:only-of-type {\n",
              "        vertical-align: middle;\n",
              "    }\n",
              "\n",
              "    .dataframe tbody tr th {\n",
              "        vertical-align: top;\n",
              "    }\n",
              "\n",
              "    .dataframe thead th {\n",
              "        text-align: right;\n",
              "    }\n",
              "</style>\n",
              "<table border=\"1\" class=\"dataframe\">\n",
              "  <thead>\n",
              "    <tr style=\"text-align: right;\">\n",
              "      <th></th>\n",
              "      <th>number of sentences</th>\n",
              "      <th>empathy score</th>\n",
              "    </tr>\n",
              "  </thead>\n",
              "  <tbody>\n",
              "    <tr>\n",
              "      <th>0</th>\n",
              "      <td>2</td>\n",
              "      <td>2</td>\n",
              "    </tr>\n",
              "    <tr>\n",
              "      <th>1</th>\n",
              "      <td>1</td>\n",
              "      <td>0</td>\n",
              "    </tr>\n",
              "    <tr>\n",
              "      <th>2</th>\n",
              "      <td>2</td>\n",
              "      <td>2</td>\n",
              "    </tr>\n",
              "    <tr>\n",
              "      <th>3</th>\n",
              "      <td>2</td>\n",
              "      <td>2</td>\n",
              "    </tr>\n",
              "    <tr>\n",
              "      <th>4</th>\n",
              "      <td>2</td>\n",
              "      <td>2</td>\n",
              "    </tr>\n",
              "  </tbody>\n",
              "</table>\n",
              "</div>"
            ],
            "text/plain": [
              "   number of sentences  empathy score\n",
              "0                    2              2\n",
              "1                    1              0\n",
              "2                    2              2\n",
              "3                    2              2\n",
              "4                    2              2"
            ]
          },
          "execution_count": 38,
          "metadata": {},
          "output_type": "execute_result"
        }
      ],
      "source": [
        "new_df.head()"
      ]
    },
    {
      "cell_type": "code",
      "execution_count": 39,
      "metadata": {
        "colab": {
          "base_uri": "https://localhost:8080/",
          "height": 173
        },
        "id": "ezibB247rCnC",
        "outputId": "877af549-0d61-4249-939f-a822d7b1504c"
      },
      "outputs": [
        {
          "data": {
            "text/html": [
              "<div>\n",
              "<style scoped>\n",
              "    .dataframe tbody tr th:only-of-type {\n",
              "        vertical-align: middle;\n",
              "    }\n",
              "\n",
              "    .dataframe tbody tr th {\n",
              "        vertical-align: top;\n",
              "    }\n",
              "\n",
              "    .dataframe thead th {\n",
              "        text-align: right;\n",
              "    }\n",
              "</style>\n",
              "<table border=\"1\" class=\"dataframe\">\n",
              "  <thead>\n",
              "    <tr style=\"text-align: right;\">\n",
              "      <th></th>\n",
              "      <th>empathy score</th>\n",
              "    </tr>\n",
              "    <tr>\n",
              "      <th>number of sentences</th>\n",
              "      <th></th>\n",
              "    </tr>\n",
              "  </thead>\n",
              "  <tbody>\n",
              "    <tr>\n",
              "      <th>1</th>\n",
              "      <td>623</td>\n",
              "    </tr>\n",
              "    <tr>\n",
              "      <th>2</th>\n",
              "      <td>462</td>\n",
              "    </tr>\n",
              "    <tr>\n",
              "      <th>3</th>\n",
              "      <td>15</td>\n",
              "    </tr>\n",
              "  </tbody>\n",
              "</table>\n",
              "</div>"
            ],
            "text/plain": [
              "                     empathy score\n",
              "number of sentences               \n",
              "1                              623\n",
              "2                              462\n",
              "3                               15"
            ]
          },
          "execution_count": 39,
          "metadata": {},
          "output_type": "execute_result"
        }
      ],
      "source": [
        "new_df.groupby('number of sentences').count()"
      ]
    },
    {
      "cell_type": "code",
      "execution_count": 40,
      "metadata": {
        "colab": {
          "base_uri": "https://localhost:8080/",
          "height": 173
        },
        "id": "WHKoJyvJAfwg",
        "outputId": "9ff7cca7-a89e-44dc-c5e5-ce3840158405"
      },
      "outputs": [
        {
          "data": {
            "text/html": [
              "<div>\n",
              "<style scoped>\n",
              "    .dataframe tbody tr th:only-of-type {\n",
              "        vertical-align: middle;\n",
              "    }\n",
              "\n",
              "    .dataframe tbody tr th {\n",
              "        vertical-align: top;\n",
              "    }\n",
              "\n",
              "    .dataframe thead th {\n",
              "        text-align: right;\n",
              "    }\n",
              "</style>\n",
              "<table border=\"1\" class=\"dataframe\">\n",
              "  <thead>\n",
              "    <tr style=\"text-align: right;\">\n",
              "      <th></th>\n",
              "      <th>mean empathy score</th>\n",
              "    </tr>\n",
              "    <tr>\n",
              "      <th>number of sentences</th>\n",
              "      <th></th>\n",
              "    </tr>\n",
              "  </thead>\n",
              "  <tbody>\n",
              "    <tr>\n",
              "      <th>1</th>\n",
              "      <td>0.568218</td>\n",
              "    </tr>\n",
              "    <tr>\n",
              "      <th>2</th>\n",
              "      <td>1.662338</td>\n",
              "    </tr>\n",
              "    <tr>\n",
              "      <th>3</th>\n",
              "      <td>1.866667</td>\n",
              "    </tr>\n",
              "  </tbody>\n",
              "</table>\n",
              "</div>"
            ],
            "text/plain": [
              "                     mean empathy score\n",
              "number of sentences                    \n",
              "1                              0.568218\n",
              "2                              1.662338\n",
              "3                              1.866667"
            ]
          },
          "execution_count": 40,
          "metadata": {},
          "output_type": "execute_result"
        }
      ],
      "source": [
        "new_df.rename(columns={'empathy score': 'mean empathy score'}, inplace=True)\n",
        "new_df.groupby('number of sentences').mean()"
      ]
    },
    {
      "cell_type": "code",
      "execution_count": 41,
      "metadata": {
        "colab": {
          "base_uri": "https://localhost:8080/",
          "height": 531
        },
        "id": "pqZWmhrJ-jE2",
        "outputId": "0415c9b0-d1da-46e4-801d-c219c5641457"
      },
      "outputs": [
        {
          "data": {
            "image/png": "[encoded data removed]",
            "text/plain": [
              "<Figure size 1080x576 with 1 Axes>"
            ]
          },
          "metadata": {
            "needs_background": "light"
          },
          "output_type": "display_data"
        }
      ],
      "source": [
        "plt.rcParams.update({'font.size': 18})\n",
        "new_df.groupby('number of sentences').mean().plot.bar(figsize=(15,8), title='Mean empathy score of an utterance by number of sentences it contains', \n",
        "                                             fontsize=14, rot=0, color=('mediumblue')); "
      ]
    }
  ],
  "metadata": {
    "accelerator": "GPU",
    "colab": {
      "collapsed_sections": [],
      "machine_shape": "hm",
      "name": "Data analysis.ipynb",
      "provenance": []
    },
    "kernelspec": {
      "display_name": "Python 3.9.6 64-bit",
      "language": "python",
      "name": "python3"
    },
    "language_info": {
      "codemirror_mode": {
        "name": "ipython",
        "version": 3
      },
      "file_extension": ".py",
      "mimetype": "text/x-python",
      "name": "python",
      "nbconvert_exporter": "python",
      "pygments_lexer": "ipython3",
      "version": "3.9.6"
    },
    "vscode": {
      "interpreter": {
        "hash": "5bd938c840847d54ef8fed239ba8336fe69fbf59024035788a7ca1fdcd065430"
      }
    }
  },
  "nbformat": 4,
  "nbformat_minor": 0
}

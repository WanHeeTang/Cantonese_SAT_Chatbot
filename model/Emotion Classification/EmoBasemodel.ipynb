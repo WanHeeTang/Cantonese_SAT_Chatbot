{
 "cells": [
  {
   "cell_type": "code",
   "execution_count": 1,
   "metadata": {},
   "outputs": [
    {
     "name": "stderr",
     "output_type": "stream",
     "text": [
      "[nltk_data] Downloading package wordnet to C:\\Users\\Wan\n",
      "[nltk_data]     Hee\\AppData\\Roaming\\nltk_data...\n",
      "[nltk_data]   Package wordnet is already up-to-date!\n"
     ]
    }
   ],
   "source": [
    "import numpy as np\n",
    "import pandas as pd\n",
    "import nltk\n",
    "nltk.download(\"wordnet\")\n",
    "from nltk.corpus import wordnet\n",
    "import re\n",
    "from sklearn import metrics\n",
    "from sklearn.metrics import classification_report\n",
    "from sklearn.metrics import confusion_matrix\n",
    "from sklearn.model_selection import train_test_split"
   ]
  },
  {
   "cell_type": "code",
   "execution_count": 2,
   "metadata": {},
   "outputs": [],
   "source": [
    "#import empatheticPersonas dataset\n",
    "data = pd.read_csv('/home/wanhee/SATbot2.0/model/emotion_data/my_empatheticPersonasTW.csv', encoding='utf-8') #put dataset in Drive root folder or change path"
   ]
  },
  {
   "cell_type": "code",
   "execution_count": 3,
   "metadata": {},
   "outputs": [],
   "source": [
    "#extract sad patient response columns\n",
    "sad_df = data[['唔開心- 患者反應1', '唔開心- 患者反應2', '唔開心- 患者反應3']]"
   ]
  },
  {
   "cell_type": "code",
   "execution_count": 4,
   "metadata": {},
   "outputs": [],
   "source": [
    "#extract each column as series\n",
    "sad1 = sad_df['唔開心- 患者反應1']\n",
    "sad2 = sad_df['唔開心- 患者反應2']\n",
    "sad3 = sad_df['唔開心- 患者反應3']"
   ]
  },
  {
   "cell_type": "code",
   "execution_count": 5,
   "metadata": {},
   "outputs": [
    {
     "name": "stderr",
     "output_type": "stream",
     "text": [
      "C:\\Users\\Wan Hee\\AppData\\Local\\Temp\\ipykernel_7280\\1034635182.py:2: FutureWarning: The series.append method is deprecated and will be removed from pandas in a future version. Use pandas.concat instead.\n",
      "  sad12 = sad1.append(sad2)\n",
      "C:\\Users\\Wan Hee\\AppData\\Local\\Temp\\ipykernel_7280\\1034635182.py:3: FutureWarning: The series.append method is deprecated and will be removed from pandas in a future version. Use pandas.concat instead.\n",
      "  sad = sad12.append(sad3)\n"
     ]
    }
   ],
   "source": [
    "#concatenate series\n",
    "sad12 = sad1.append(sad2)\n",
    "sad = sad12.append(sad3)"
   ]
  },
  {
   "cell_type": "code",
   "execution_count": 6,
   "metadata": {},
   "outputs": [],
   "source": [
    "#convert result to dataframe and drop rows with null values\n",
    "sad_df = sad.to_frame()\n",
    "sad_df = sad_df.dropna()"
   ]
  },
  {
   "cell_type": "code",
   "execution_count": 7,
   "metadata": {},
   "outputs": [],
   "source": [
    "#insert class column with all values set to sadness and rename columns\n",
    "sad_df.insert(1, 'class', '唔開心')\n",
    "sad_df.columns = ['text', 'class']"
   ]
  },
  {
   "cell_type": "markdown",
   "metadata": {},
   "source": [
    "# Angry"
   ]
  },
  {
   "cell_type": "code",
   "execution_count": 8,
   "metadata": {},
   "outputs": [],
   "source": [
    "#extract angry patient response columns\n",
    "angry_df = data[['嬲- 患者反應1', '嬲- 患者反應2', '嬲- 患者反應3']]"
   ]
  },
  {
   "cell_type": "code",
   "execution_count": 9,
   "metadata": {},
   "outputs": [],
   "source": [
    "#extract each angry column as series\n",
    "angry1 = angry_df['嬲- 患者反應1']\n",
    "angry2 = angry_df['嬲- 患者反應2']\n",
    "angry3 = angry_df['嬲- 患者反應3']"
   ]
  },
  {
   "cell_type": "code",
   "execution_count": 10,
   "metadata": {},
   "outputs": [
    {
     "name": "stderr",
     "output_type": "stream",
     "text": [
      "C:\\Users\\Wan Hee\\AppData\\Local\\Temp\\ipykernel_7280\\2132024037.py:2: FutureWarning: The series.append method is deprecated and will be removed from pandas in a future version. Use pandas.concat instead.\n",
      "  angry12 = angry1.append(angry2)\n",
      "C:\\Users\\Wan Hee\\AppData\\Local\\Temp\\ipykernel_7280\\2132024037.py:3: FutureWarning: The series.append method is deprecated and will be removed from pandas in a future version. Use pandas.concat instead.\n",
      "  angry = angry12.append(angry3)\n"
     ]
    }
   ],
   "source": [
    "#concatenate series\n",
    "angry12 = angry1.append(angry2)\n",
    "angry = angry12.append(angry3)"
   ]
  },
  {
   "cell_type": "code",
   "execution_count": 11,
   "metadata": {},
   "outputs": [],
   "source": [
    "\n",
    "#convert angry series to dataframe and drop rows with null values\n",
    "angry_df = angry.to_frame()\n",
    "angry_df = angry_df.dropna()"
   ]
  },
  {
   "cell_type": "code",
   "execution_count": 12,
   "metadata": {},
   "outputs": [],
   "source": [
    "#insert class column with all values set to anger and rename columns\n",
    "angry_df.insert(1, 'class', '嬲')\n",
    "angry_df.columns = ['text', 'class']"
   ]
  },
  {
   "cell_type": "markdown",
   "metadata": {},
   "source": [
    "# Anxious"
   ]
  },
  {
   "cell_type": "code",
   "execution_count": 13,
   "metadata": {},
   "outputs": [],
   "source": [
    "#extract anxious/fearful patient response columns\n",
    "fearful_df = data[['擔心- 患者反應1', '擔心- 患者反應2', '擔心- 患者反應3']]\n"
   ]
  },
  {
   "cell_type": "code",
   "execution_count": 14,
   "metadata": {},
   "outputs": [],
   "source": [
    "#extract each fearful column as series\n",
    "fearful1 = fearful_df['擔心- 患者反應1']\n",
    "fearful2 = fearful_df['擔心- 患者反應2']\n",
    "fearful3 = fearful_df['擔心- 患者反應3']\n"
   ]
  },
  {
   "cell_type": "code",
   "execution_count": 15,
   "metadata": {},
   "outputs": [
    {
     "name": "stderr",
     "output_type": "stream",
     "text": [
      "C:\\Users\\Wan Hee\\AppData\\Local\\Temp\\ipykernel_7280\\1005300024.py:2: FutureWarning: The series.append method is deprecated and will be removed from pandas in a future version. Use pandas.concat instead.\n",
      "  fearful12 = fearful1.append(fearful2)\n",
      "C:\\Users\\Wan Hee\\AppData\\Local\\Temp\\ipykernel_7280\\1005300024.py:3: FutureWarning: The series.append method is deprecated and will be removed from pandas in a future version. Use pandas.concat instead.\n",
      "  fearful = fearful12.append(fearful3)\n"
     ]
    }
   ],
   "source": [
    "#concatenate series\n",
    "fearful12 = fearful1.append(fearful2)\n",
    "fearful = fearful12.append(fearful3)"
   ]
  },
  {
   "cell_type": "code",
   "execution_count": 16,
   "metadata": {},
   "outputs": [],
   "source": [
    "#convert fearful series to dataframe and drop rows with null values\n",
    "fearful_df = fearful.to_frame()\n",
    "fearful_df = fearful_df.dropna()"
   ]
  },
  {
   "cell_type": "code",
   "execution_count": 17,
   "metadata": {},
   "outputs": [],
   "source": [
    "#insert class column with all values set to fear and rename columns\n",
    "fearful_df.insert(1, 'class', '擔心')\n",
    "fearful_df.columns = ['text', 'class']"
   ]
  },
  {
   "cell_type": "markdown",
   "metadata": {},
   "source": [
    "# Happy"
   ]
  },
  {
   "cell_type": "code",
   "execution_count": 18,
   "metadata": {},
   "outputs": [],
   "source": [
    "#extract happy patient response columns\n",
    "happy_df = data[['開心- 患者反應1', '開心- 患者反應2', '開心- 患者反應3']]"
   ]
  },
  {
   "cell_type": "code",
   "execution_count": 19,
   "metadata": {},
   "outputs": [],
   "source": [
    "#extract each happy column as series\n",
    "happy1 = happy_df['開心- 患者反應1']\n",
    "happy2 = happy_df['開心- 患者反應2']\n",
    "happy3 = happy_df['開心- 患者反應3']"
   ]
  },
  {
   "cell_type": "code",
   "execution_count": 20,
   "metadata": {},
   "outputs": [
    {
     "name": "stderr",
     "output_type": "stream",
     "text": [
      "C:\\Users\\Wan Hee\\AppData\\Local\\Temp\\ipykernel_7280\\1138037813.py:2: FutureWarning: The series.append method is deprecated and will be removed from pandas in a future version. Use pandas.concat instead.\n",
      "  happy12 = happy1.append(happy2)\n",
      "C:\\Users\\Wan Hee\\AppData\\Local\\Temp\\ipykernel_7280\\1138037813.py:3: FutureWarning: The series.append method is deprecated and will be removed from pandas in a future version. Use pandas.concat instead.\n",
      "  happy = happy12.append(happy3)\n"
     ]
    }
   ],
   "source": [
    "#concatenate series\n",
    "happy12 = happy1.append(happy2)\n",
    "happy = happy12.append(happy3)"
   ]
  },
  {
   "cell_type": "code",
   "execution_count": 21,
   "metadata": {},
   "outputs": [],
   "source": [
    "#convert happy series to dataframe and drop rows with null values\n",
    "happy_df = happy.to_frame()\n",
    "happy_df = happy_df.dropna()"
   ]
  },
  {
   "cell_type": "code",
   "execution_count": 22,
   "metadata": {},
   "outputs": [],
   "source": [
    "#insert class column with all values set to joy and rename columns\n",
    "happy_df.insert(1, 'class', '開心')\n",
    "happy_df.columns = ['text', 'class']"
   ]
  },
  {
   "cell_type": "code",
   "execution_count": 23,
   "metadata": {},
   "outputs": [],
   "source": [
    "#concatenate sad, angry, fearful and happy dataframes into one, shuffle and reset indices\n",
    "df = pd.concat([sad_df, angry_df, fearful_df, happy_df])\n",
    "df = df.sample(frac=1).reset_index(drop=True)\n"
   ]
  },
  {
   "cell_type": "markdown",
   "metadata": {},
   "source": [
    "# Analyse"
   ]
  },
  {
   "cell_type": "code",
   "execution_count": 24,
   "metadata": {},
   "outputs": [
    {
     "data": {
      "text/plain": [
       "1770"
      ]
     },
     "execution_count": 24,
     "metadata": {},
     "output_type": "execute_result"
    }
   ],
   "source": [
    "\n",
    "#we obtain a dataframe with 1181 rows, divided into four classes\n",
    "len(df)"
   ]
  },
  {
   "cell_type": "code",
   "execution_count": 25,
   "metadata": {},
   "outputs": [
    {
     "data": {
      "text/plain": [
       "class\n",
       "唔開心    300\n",
       "嬲      302\n",
       "擔心     568\n",
       "開心     600\n",
       "dtype: int64"
      ]
     },
     "execution_count": 25,
     "metadata": {},
     "output_type": "execute_result"
    }
   ],
   "source": [
    "#The classes are well balanced\n",
    "df.groupby('class').size()"
   ]
  },
  {
   "cell_type": "code",
   "execution_count": 26,
   "metadata": {},
   "outputs": [
    {
     "name": "stderr",
     "output_type": "stream",
     "text": [
      "C:\\Users\\Wan Hee\\AppData\\Local\\Temp\\ipykernel_7280\\3949314397.py:2: FutureWarning: The default value of regex will change from True to False in a future version.\n",
      "  df['text'] = df['text'].str.replace('[^\\w\\s]','')\n"
     ]
    }
   ],
   "source": [
    "#remove punctuation from responses in text column and make everything lower case\n",
    "df['text'] = df['text'].str.replace('[^\\w\\s]','')\n",
    "df['text'] = df['text'].str.lower()"
   ]
  },
  {
   "cell_type": "code",
   "execution_count": 27,
   "metadata": {},
   "outputs": [],
   "source": [
    "df = df.rename(columns={'class': 'emotions'})"
   ]
  },
  {
   "cell_type": "code",
   "execution_count": 28,
   "metadata": {},
   "outputs": [],
   "source": [
    "#generate the text files for train, val, and test datasets in 80:10:10 proportion\n",
    "\n",
    "#change paths if desired\n",
    "train_path = \"/home/wanhee/SATbot2.0/model/emotion_data/my_train.txt\" \n",
    "test_path = \"/home/wanhee/SATbot2.0/model/emotion_data/my_test.txt\"\n",
    "val_path = \"/home/wanhee/SATbot2.0/model/emotion_data/my_val.txt\"\n",
    "\n",
    "\n",
    "from sklearn.model_selection import train_test_split\n",
    "import numpy as np\n",
    "\n",
    "# Creating training and validation sets using an 80-20 split\n",
    "input_train, input_val, target_train, target_val = train_test_split(df.text.to_numpy(), \n",
    "                                                                    df.emotions.to_numpy(), \n",
    "                                                                    test_size=0.2, random_state=0)\n",
    "\n",
    "# Split the validataion further to obtain a holdout dataset (for testing) -- split 50:50\n",
    "input_val, input_test, target_val, target_test = train_test_split(input_val, target_val, test_size=0.5, random_state=0)\n",
    "\n",
    "\n",
    "## create a dataframe for each dataset\n",
    "train_dataset = pd.DataFrame(data={\"text\": input_train, \"class\": target_train})\n",
    "val_dataset = pd.DataFrame(data={\"text\": input_val, \"class\": target_val})\n",
    "test_dataset = pd.DataFrame(data={\"text\": input_test, \"class\": target_test})\n",
    "final_dataset = {\"train\": train_dataset, \"val\": val_dataset , \"test\": test_dataset }\n",
    "\n",
    "train_dataset.to_csv(train_path, sep=\";\",header=False, index=False)\n",
    "val_dataset.to_csv(val_path, sep=\";\",header=False, index=False)\n",
    "test_dataset.to_csv(test_path, sep=\";\",header=False, index=False)"
   ]
  },
  {
   "cell_type": "code",
   "execution_count": 29,
   "metadata": {},
   "outputs": [
    {
     "data": {
      "text/plain": [
       "text     1416\n",
       "class    1416\n",
       "dtype: int64"
      ]
     },
     "execution_count": 29,
     "metadata": {},
     "output_type": "execute_result"
    }
   ],
   "source": [
    "#sanity check\n",
    "train_dataset.count()"
   ]
  },
  {
   "cell_type": "markdown",
   "metadata": {},
   "source": [
    "# Baseline"
   ]
  },
  {
   "cell_type": "code",
   "execution_count": 31,
   "metadata": {},
   "outputs": [],
   "source": [
    "#We can test this method directly on our test set\n",
    "\n",
    "test_path = \"/home/wanhee/SATbot2.0/model/emotion_data/my_test.txt\" #change path if necessary to match previous changes\n",
    "test_dataset = pd.read_csv(test_path, sep=';', header=None)\n",
    "test_dataset.columns = ['text', 'class']\n",
    "\n",
    "#define the functions we need (these are adapted from Ali Ghachem's original code)\n",
    "\n",
    "def calculate_emotion_scores(user_response):\n",
    "\n",
    "        user_input = user_response.lower()\n",
    "        tokenised_input = re.findall(r\"[\\w']+\", user_input)\n",
    "        \n",
    "\n",
    "        scores = [\n",
    "            detect_happy(tokenised_input),\n",
    "            detect_sad(tokenised_input),\n",
    "            detect_angry(tokenised_input),\n",
    "            detect_anxious(tokenised_input)\n",
    "        ]\n",
    "\n",
    "        return scores\n",
    "\n",
    "\n",
    "def detect_happy(tokenised_input):\n",
    "\n",
    "        starting_for_keywords = [\n",
    "            \"好\",\n",
    "            \"開心\",\n",
    "            \"美好\",\n",
    "            \"出色\",\n",
    "            \"高興極了\",\n",
    "            \"偉大\",\n",
    "            \"積極\",\n",
    "            \"體面\",\n",
    "            \"滿意\",\n",
    "            \"輕鬆\",\n",
    "            \"好\",\n",
    "            \"高興\",\n",
    "            \"開心\",\n",
    "            \"欣喜\"\n",
    "        ]\n",
    "        starting_against_keywords = [\n",
    "            \"傷心\",\n",
    "            \"不開心\",\n",
    "            \"生氣\",\n",
    "            \"害怕\",\n",
    "            \"擔心\",\n",
    "            \"沮喪\",\n",
    "            \"不高興\",\n",
    "            \"嬲\",\n",
    "            \"生氣\"\n",
    "        ]\n",
    "\n",
    "        #keywords for detecting and not detecting the emotion, respectively\n",
    "        for_keywords, against_keywords = extract_for_and_against_keywords(\n",
    "            starting_for_keywords, starting_against_keywords\n",
    "        )\n",
    "\n",
    "        return calculate_score(tokenised_input, for_keywords, against_keywords)\n",
    "\n",
    "\n",
    "def detect_sad(tokenised_input):\n",
    "        starting_for_keywords = [\"壞\", \"唔開心\", \"不開心\", \"沮喪\", \"傷心\", \"失望\", \"痛心\"]\n",
    "        starting_against_keywords = [\n",
    "            \"中性\",\n",
    "            \"生氣\",\n",
    "            \"害怕\",\n",
    "            \"擔心\",\n",
    "            \"開心\",\n",
    "            \"擔心\",\n",
    "            \"不\",\n",
    "            \"中立\",\n",
    "            \"嬲\",\n",
    "        ]\n",
    "\n",
    "        # Keywords for detecting and not detecting the behaviour, respectively\n",
    "        for_keywords, against_keywords = extract_for_and_against_keywords(\n",
    "            starting_for_keywords, starting_against_keywords\n",
    "        )\n",
    "\n",
    "        return calculate_score(tokenised_input, for_keywords, against_keywords)\n",
    "\n",
    "\n",
    "def detect_angry(tokenised_input):\n",
    "        starting_for_keywords = [\"生氣\", \"嬲\", \"嬲\"]\n",
    "        starting_against_keywords = [\n",
    "            \"中性\",\n",
    "            \"沮喪\",\n",
    "            \"鬱悶\",\n",
    "            \"害怕\",\n",
    "            \"擔心\",\n",
    "            \"擔心\",\n",
    "            \"開心\",\n",
    "            \"中立\",\n",
    "        ]\n",
    "\n",
    "        # Keywords for detecting and not detecting the behaviour, respectively\n",
    "        for_keywords, against_keywords = extract_for_and_against_keywords(\n",
    "            starting_for_keywords, starting_against_keywords\n",
    "        )\n",
    "\n",
    "        return calculate_score(tokenised_input, for_keywords, against_keywords)\n",
    "\n",
    "\n",
    "def detect_anxious(tokenised_input):\n",
    "        starting_for_keywords = [\"害怕\", \"驚\", \"擔心\", \"恐懼\"]\n",
    "        starting_against_keywords = [\"中性\", \"沮喪\", \"不安\", \"開心\", \"生氣\", \"嬲\"]\n",
    "\n",
    "        # Keywords for detecting and not detecting the behaviour, respectively\n",
    "        for_keywords, against_keywords = extract_for_and_against_keywords(\n",
    "            starting_for_keywords, starting_against_keywords\n",
    "        )\n",
    "\n",
    "        return calculate_score(tokenised_input, for_keywords, against_keywords)\n",
    "\n",
    "\n",
    "def extract_for_and_against_keywords(\n",
    "        starting_for_keywords, starting_against_keywords\n",
    "    ):\n",
    "        for_keywords = starting_for_keywords\n",
    "        against_keywords = starting_against_keywords\n",
    "        for i in range(len(starting_for_keywords)):\n",
    "            word = starting_for_keywords[i]\n",
    "            for syn in wordnet.synsets(word):\n",
    "                for lemma in syn.lemmas():\n",
    "                    # Adds lemmas to for_keywords\n",
    "                    for_keywords.append(lemma.name())\n",
    "                    if lemma.antonyms():\n",
    "                        for antonym in lemma.antonyms():\n",
    "                            against_keywords.append(antonym.name())\n",
    "\n",
    "        return set(for_keywords), set(against_keywords)\n",
    "\n",
    "\n",
    "def calculate_score(user_input, for_keywords, against_keywords):\n",
    "\n",
    "        score = 0\n",
    "        for word in user_input:\n",
    "            if word in for_keywords:\n",
    "                score += 1\n",
    "\n",
    "            elif word in against_keywords:\n",
    "                score -= 1\n",
    "\n",
    "        return score"
   ]
  },
  {
   "cell_type": "code",
   "execution_count": 32,
   "metadata": {},
   "outputs": [],
   "source": [
    "def find_sentences_with_keyword(document, for_keywords, against_keywords):\n",
    "    \n",
    "    score = 0\n",
    "\n",
    "    #Iterate through all the sentences in the document and pull out the text of each sentence\n",
    "    for sentence in document.sents:\n",
    "        sentence = sentence.text\n",
    "        \n",
    "        #Check to see if the keyword is in the sentence (and ignore capitalization by making both lowercase)\n",
    "        if for_keywords in sentence.lower():\n",
    "            score += 1\n",
    "        elif against_keywords in sentence.lower():\n",
    "            score -= 1\n",
    "    \n",
    "    return score"
   ]
  },
  {
   "cell_type": "code",
   "execution_count": 33,
   "metadata": {},
   "outputs": [],
   "source": [
    "def get_emotion_rulebased(text):\n",
    "\n",
    "  emotion_scores = calculate_emotion_scores(text)\n",
    "  max_pos = np.argmax(emotion_scores)\n",
    "  print(emotion_scores)\n",
    "  emotion = ''\n",
    "\n",
    "  if max_pos == 0:\n",
    "    emotion = '開心'\n",
    "  elif max_pos == 1:\n",
    "    emotion = '唔開心'\n",
    "  elif max_pos == 2:\n",
    "    emotion = '嬲'\n",
    "  else:\n",
    "    emotion = '擔心'\n",
    "\n",
    "  return emotion"
   ]
  },
  {
   "cell_type": "code",
   "execution_count": 34,
   "metadata": {},
   "outputs": [
    {
     "name": "stderr",
     "output_type": "stream",
     "text": [
      "Building prefix dict from the default dictionary ...\n",
      "Dumping model to file cache C:\\Users\\WANHEE~1\\AppData\\Local\\Temp\\jieba.cache\n",
      "Loading model cost 0.551 seconds.\n",
      "Prefix dict has been built successfully.\n"
     ]
    },
    {
     "name": "stdout",
     "output_type": "stream",
     "text": [
      "我 很 生氣\n",
      "[-1, -1, 1, -1]\n"
     ]
    },
    {
     "data": {
      "text/plain": [
       "'嬲'"
      ]
     },
     "execution_count": 34,
     "metadata": {},
     "output_type": "execute_result"
    }
   ],
   "source": [
    "import jieba\n",
    "\n",
    "#quick sanity check before testing on the whole test set\n",
    "text=\"我很生氣\" #we try a sentence with no sentiment word to trick the model, but the sentiment is clear (sadness)\n",
    "text = jieba.cut_for_search(text)\n",
    "text = \" \".join(text)\n",
    "print(text)\n",
    "get_emotion_rulebased(text)"
   ]
  },
  {
   "cell_type": "code",
   "execution_count": 35,
   "metadata": {},
   "outputs": [
    {
     "name": "stdout",
     "output_type": "stream",
     "text": [
      "Full Mode: 我 爱 自然 自然语言 语言 处理\n",
      "Default Mode: 我 爱 自然 语言 自然语言 处理\n",
      "Search Mode: 我 爱 自然 语言 自然语言 处理\n"
     ]
    }
   ],
   "source": [
    "import jieba\n",
    "\n",
    "text = \"我爱自然语言处理\"\n",
    "\n",
    "seg_list = jieba.cut(text, cut_all=True)                  \n",
    "print(\"Full Mode: \" + \" \".join(seg_list)) # 全模式  \n",
    "\n",
    "test = jieba.cut_for_search(text)\n",
    "print(\"Default Mode: \" + \" \".join(test)) # 默认模式/精确模式       \n",
    "\n",
    "test2 = jieba.cut_for_search(text) # 搜索引擎模式     \n",
    "print(\"Search Mode: \" + \" \".join(test2)) # 搜索引擎模式              \n"
   ]
  },
  {
   "cell_type": "markdown",
   "metadata": {},
   "source": [
    "# Test"
   ]
  },
  {
   "cell_type": "code",
   "execution_count": 36,
   "metadata": {},
   "outputs": [
    {
     "name": "stdout",
     "output_type": "stream",
     "text": [
      "[0, 0, 0, 0]\n",
      "[0, 0, 0, 0]\n",
      "[0, 0, 0, 0]\n",
      "[-1, -1, -1, 1]\n",
      "[-1, -1, -1, 1]\n",
      "[0, 0, 0, 0]\n",
      "[0, 0, 0, 0]\n",
      "[-1, 1, -1, -1]\n",
      "[-1, -1, -1, 1]\n",
      "[1, 0, 0, 0]\n",
      "[0, 0, 0, 0]\n",
      "[0, 0, 0, 0]\n",
      "[0, 0, 0, 0]\n",
      "[0, 0, 0, 0]\n",
      "[1, 0, 0, 0]\n",
      "[2, 0, 0, 0]\n",
      "[1, 0, 0, 0]\n",
      "[1, 0, 0, 0]\n",
      "[-1, -1, 1, -1]\n",
      "[-1, -2, -1, 1]\n",
      "[0, 0, 0, 0]\n",
      "[0, 0, 0, 0]\n",
      "[-1, -1, 1, -1]\n",
      "[-1, -1, -1, 1]\n",
      "[1, 0, 0, 0]\n",
      "[0, 0, 0, 0]\n",
      "[1, 0, 0, 0]\n",
      "[-1, -1, -1, 1]\n",
      "[-1, 1, -1, -1]\n",
      "[0, 0, 0, 0]\n",
      "[0, -1, 0, 0]\n",
      "[0, 0, 0, 0]\n",
      "[-1, -1, 1, -1]\n",
      "[1, -1, -1, -1]\n",
      "[-1, -1, 1, -1]\n",
      "[0, 0, 0, 0]\n",
      "[0, 0, 0, 0]\n",
      "[1, 0, 0, 0]\n",
      "[1, 0, 0, 0]\n",
      "[-1, -1, 1, -1]\n",
      "[1, 0, 0, 0]\n",
      "[-1, -1, 1, -1]\n",
      "[0, 0, 0, 0]\n",
      "[-1, -1, 1, -1]\n",
      "[0, -1, 0, 0]\n",
      "[0, 0, 0, 0]\n",
      "[0, 0, 0, 1]\n",
      "[1, 0, 0, 0]\n",
      "[-1, 1, -1, -1]\n",
      "[0, 0, 0, 0]\n",
      "[1, 0, 0, 0]\n",
      "[0, 0, 0, 0]\n",
      "[1, 0, 0, 0]\n",
      "[0, 0, 0, 0]\n",
      "[0, 0, 0, 0]\n",
      "[1, 0, 0, 0]\n",
      "[1, 0, 0, 0]\n",
      "[1, 0, 0, 0]\n",
      "[0, 0, 0, 0]\n",
      "[0, 0, 0, 0]\n",
      "[-2, -2, -2, 2]\n",
      "[0, 0, 0, 0]\n",
      "[-2, 2, -2, -2]\n",
      "[0, 0, 0, 0]\n",
      "[-1, -1, -1, 1]\n",
      "[0, 0, 0, 0]\n",
      "[0, 1, 0, 0]\n",
      "[-1, -1, -1, 1]\n",
      "[-1, 0, 1, -1]\n",
      "[0, 0, 0, 1]\n",
      "[1, -1, 0, 0]\n",
      "[0, 0, 0, 0]\n",
      "[0, 0, 0, 0]\n",
      "[0, 0, 0, 0]\n",
      "[-1, -1, -1, 1]\n",
      "[0, 0, 0, 0]\n",
      "[-1, -1, -1, 1]\n",
      "[0, 0, 0, 0]\n",
      "[0, 0, 0, 0]\n",
      "[-1, 1, -1, -1]\n",
      "[0, 0, 0, 0]\n",
      "[1, 0, 0, 0]\n",
      "[1, -1, -1, -1]\n",
      "[0, -1, 0, 0]\n",
      "[-1, -2, 1, -1]\n",
      "[0, 0, 0, 0]\n",
      "[0, 0, 0, 0]\n",
      "[-1, -1, -1, 1]\n",
      "[0, 0, 0, 0]\n",
      "[0, 0, 0, 0]\n",
      "[-1, -1, -1, 1]\n",
      "[0, 0, 0, 0]\n",
      "[0, 0, 0, 0]\n",
      "[0, 0, 0, 0]\n",
      "[-1, 1, -1, -1]\n",
      "[-1, -1, -1, 1]\n",
      "[0, 0, 0, -1]\n",
      "[0, 0, 0, 0]\n",
      "[0, 0, 0, 0]\n",
      "[-1, -2, -1, 1]\n",
      "[-2, -2, -2, 2]\n",
      "[-1, -1, -1, 1]\n",
      "[-1, -1, -1, 1]\n",
      "[-1, -1, -1, 1]\n",
      "[0, 0, 0, 0]\n",
      "[0, 0, 0, 0]\n",
      "[0, 0, 0, 0]\n",
      "[-1, -1, -1, 1]\n",
      "[1, 0, 0, 0]\n",
      "[-1, -1, 1, -1]\n",
      "[2, -1, -1, -1]\n",
      "[0, 0, 0, 0]\n",
      "[0, 0, 0, 0]\n",
      "[-2, 0, 0, -2]\n",
      "[1, 0, 0, 0]\n",
      "[0, 0, 0, 0]\n",
      "[0, 0, 0, 0]\n",
      "[-1, 1, -1, -1]\n",
      "[-1, -1, 1, -1]\n",
      "[0, 0, 0, 0]\n",
      "[0, 0, 0, 0]\n",
      "[-1, -1, 1, -1]\n",
      "[1, 0, 0, 0]\n",
      "[0, 0, 0, 0]\n",
      "[-1, -1, -1, 1]\n",
      "[-1, -1, -1, 1]\n",
      "[0, 0, 0, 0]\n",
      "[0, 0, 0, 0]\n",
      "[-1, 1, 0, 0]\n",
      "[1, -1, -1, -1]\n",
      "[-1, -1, 1, -1]\n",
      "[0, 0, 0, 0]\n",
      "[0, 0, 0, 0]\n",
      "[1, 0, 0, 0]\n",
      "[-1, -1, 1, -1]\n",
      "[0, 0, 0, 0]\n",
      "[-1, -1, 1, -1]\n",
      "[1, 0, 0, 0]\n",
      "[1, 0, 0, 0]\n",
      "[0, 0, 0, 0]\n",
      "[0, 0, 0, 0]\n",
      "[0, 0, 0, 0]\n",
      "[-1, -1, -1, 1]\n",
      "[-1, -1, -1, 1]\n",
      "[0, 0, 0, 0]\n",
      "[0, 0, 0, 0]\n",
      "[0, 0, 0, 0]\n",
      "[1, 0, 0, 0]\n",
      "[0, 0, 0, 0]\n",
      "[1, 0, 0, 0]\n",
      "[-1, 1, 0, 0]\n",
      "[-1, -1, 1, -1]\n",
      "[0, 0, 0, 0]\n",
      "[0, 0, 0, 0]\n",
      "[1, 0, 0, 0]\n",
      "[1, 0, 0, 0]\n",
      "[0, 0, 0, 0]\n",
      "[-1, -1, 1, -1]\n",
      "[0, 0, 0, 0]\n",
      "[0, -1, 0, 0]\n",
      "[0, 0, 0, 0]\n",
      "[-1, -1, 1, -1]\n",
      "[-1, -1, -1, 1]\n",
      "[1, 0, 0, 0]\n",
      "[0, 0, 0, 0]\n",
      "[1, 0, 0, 0]\n",
      "[-1, -1, 1, -1]\n",
      "[0, 0, 0, 0]\n",
      "[-1, -1, -1, 1]\n",
      "[-1, -1, 1, -1]\n",
      "[0, 0, 0, 0]\n",
      "[-1, -1, -1, 1]\n",
      "[-1, -2, 1, -1]\n",
      "[0, 0, 0, 0]\n",
      "[0, 0, 0, 0]\n",
      "[0, 0, 0, 0]\n",
      "[0, -1, 0, 0]\n"
     ]
    }
   ],
   "source": [
    "import jieba \n",
    "\n",
    "#now we test this on our test set (the same we will use to test the finetuned transformer model)\n",
    "\n",
    "test_dataset['pred'] = ''\n",
    "\n",
    "for index, row in test_dataset.iterrows():\n",
    "  tmp = row['text']\n",
    "  tmp = jieba.cut(tmp, cut_all=False)\n",
    "  tmp = \" \".join(tmp)\n",
    "  test_dataset.at[index, 'pred'] = get_emotion_rulebased(tmp)"
   ]
  },
  {
   "cell_type": "code",
   "execution_count": 37,
   "metadata": {},
   "outputs": [
    {
     "data": {
      "text/plain": [
       "0.6554"
      ]
     },
     "execution_count": 37,
     "metadata": {},
     "output_type": "execute_result"
    }
   ],
   "source": [
    "#check accuracy on the held-out test set, we get ~63% - this is our baseline accuracy\n",
    "outputs = test_dataset['pred'].to_numpy().tolist()\n",
    "targets = test_dataset['class'].to_numpy().tolist()\n",
    "\n",
    "metrics.accuracy_score(targets, outputs).round(4)"
   ]
  },
  {
   "cell_type": "code",
   "execution_count": 38,
   "metadata": {},
   "outputs": [
    {
     "name": "stdout",
     "output_type": "stream",
     "text": [
      "              precision    recall  f1-score   support\n",
      "\n",
      "         唔開心     0.9091    0.2778    0.4255        36\n",
      "           嬲     1.0000    0.6000    0.7500        35\n",
      "          擔心     0.9310    0.5625    0.7013        48\n",
      "          開心     0.5000    1.0000    0.6667        58\n",
      "\n",
      "    accuracy                         0.6554       177\n",
      "   macro avg     0.8350    0.6101    0.6359       177\n",
      "weighted avg     0.7990    0.6554    0.6435       177\n",
      "\n"
     ]
    }
   ],
   "source": [
    "#check all metrics\n",
    "print(metrics.classification_report(targets, outputs, digits=4))"
   ]
  },
  {
   "cell_type": "code",
   "execution_count": 40,
   "metadata": {},
   "outputs": [
    {
     "data": {
      "text/plain": [
       "<AxesSubplot:>"
      ]
     },
     "execution_count": 40,
     "metadata": {},
     "output_type": "execute_result"
    },
    {
     "data": {
      "image/png": "[encoded data removed]",
      "text/plain": [
       "<Figure size 720x504 with 2 Axes>"
      ]
     },
     "metadata": {},
     "output_type": "display_data"
    }
   ],
   "source": [
    "#plot confusion matrix\n",
    "import seaborn as sn\n",
    "import pandas as pd\n",
    "import matplotlib.pyplot as plt\n",
    "from matplotlib import font_manager\n",
    "import seaborn as sns\n",
    "import matplotlib as mpl\n",
    "mpl.rcParams['font.sans-serif'] = ['SimHei']\n",
    "mpl.rcParams['font.serif'] = ['SimHei']\n",
    "import seaborn as sns\n",
    "sns.set_style(\"darkgrid\",{\"font.sans-serif\":['simhei', 'Arial']})\n",
    "\n",
    "cm = metrics.confusion_matrix(targets, outputs)\n",
    "\n",
    "# df_cm = pd.DataFrame(cm, index = [\"嬲\", \"擔心\", \"開心\", \"唔開心\"], columns = [\"嬲\", \"擔心\", \"開心\", \"唔開心\"])\n",
    "df_cm = pd.DataFrame(cm, index = [ \"唔開心\", \"嬲\", \"擔心\", \"開心\"], columns = [\"唔開心\", \"嬲\", \"擔心\", \"開心\"])\n",
    "plt.figure(figsize = (10,7))\n",
    "sn.heatmap(df_cm, annot=True, cmap='Greens', fmt='g')"
   ]
  },
  {
   "cell_type": "code",
   "execution_count": null,
   "metadata": {},
   "outputs": [],
   "source": []
  }
 ],
 "metadata": {
  "kernelspec": {
   "display_name": "Python 3.9.6 64-bit",
   "language": "python",
   "name": "python3"
  },
  "language_info": {
   "codemirror_mode": {
    "name": "ipython",
    "version": 3
   },
   "file_extension": ".py",
   "mimetype": "text/x-python",
   "name": "python",
   "nbconvert_exporter": "python",
   "pygments_lexer": "ipython3",
   "version": "3.9.6"
  },
  "orig_nbformat": 4,
  "vscode": {
   "interpreter": {
    "hash": "5bd938c840847d54ef8fed239ba8336fe69fbf59024035788a7ca1fdcd065430"
   }
  }
 },
 "nbformat": 4,
 "nbformat_minor": 2
}

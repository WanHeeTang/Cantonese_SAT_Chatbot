{
 "cells": [
  {
   "cell_type": "code",
   "execution_count": 1,
   "metadata": {},
   "outputs": [],
   "source": [
    "import pandas as pd\n",
    "from sklearn.linear_model import LogisticRegression\n",
    "from sklearn.model_selection import cross_val_score, StratifiedKFold\n",
    "from sklearn.feature_extraction.text import TfidfVectorizer\n",
    "from scipy.sparse import hstack\n",
    "from matplotlib import pyplot as plt\n",
    "import seaborn as sn\n",
    "import numpy as np\n",
    "from sklearn import metrics"
   ]
  },
  {
   "cell_type": "markdown",
   "metadata": {},
   "source": [
    "# Dataset and analysis"
   ]
  },
  {
   "cell_type": "code",
   "execution_count": 3,
   "metadata": {},
   "outputs": [
    {
     "data": {
      "text/plain": [
       "1117"
      ]
     },
     "execution_count": 3,
     "metadata": {},
     "output_type": "execute_result"
    }
   ],
   "source": [
    "#The labelled portion of our dataset has labels 0, 1, 2 for the three levels of empathy (no, weak, strong)\n",
    "\n",
    "data = pd.read_csv('/home/wanhee/SATbot2.0/model/EmpathyResponse/Lisa_EmpathyResponse.csv', encoding=\"utf-8\")#put data in Drive root folder or change path\n",
    "len(data)"
   ]
  },
  {
   "cell_type": "code",
   "execution_count": null,
   "metadata": {},
   "outputs": [
    {
     "data": {
      "text/html": [
       "<div>\n",
       "<style scoped>\n",
       "    .dataframe tbody tr th:only-of-type {\n",
       "        vertical-align: middle;\n",
       "    }\n",
       "\n",
       "    .dataframe tbody tr th {\n",
       "        vertical-align: top;\n",
       "    }\n",
       "\n",
       "    .dataframe thead th {\n",
       "        text-align: right;\n",
       "    }\n",
       "</style>\n",
       "<table border=\"1\" class=\"dataframe\">\n",
       "  <thead>\n",
       "    <tr style=\"text-align: right;\">\n",
       "      <th></th>\n",
       "      <th>response</th>\n",
       "      <th>zh_label</th>\n",
       "    </tr>\n",
       "  </thead>\n",
       "  <tbody>\n",
       "    <tr>\n",
       "      <th>0</th>\n",
       "      <td>當你選擇了要嘗試的練習後，請開始該練習。完成後，你可以按“繼續”繼續。</td>\n",
       "      <td>2</td>\n",
       "    </tr>\n",
       "    <tr>\n",
       "      <th>1</th>\n",
       "      <td>你有什麼事嗎？</td>\n",
       "      <td>0</td>\n",
       "    </tr>\n",
       "    <tr>\n",
       "      <th>2</th>\n",
       "      <td>感謝你的參與，我真的很感激，你的努力非常寶貴。祝你有美好的一天！</td>\n",
       "      <td>2</td>\n",
       "    </tr>\n",
       "    <tr>\n",
       "      <th>3</th>\n",
       "      <td>我很感謝你的參與。我希望很快能再次與你合作。</td>\n",
       "      <td>2</td>\n",
       "    </tr>\n",
       "    <tr>\n",
       "      <th>4</th>\n",
       "      <td>感謝你如此開放，我正在嘗試確定提供幫助的最佳方式，並了解重新審視創傷是多麼困難。我想知道練習...</td>\n",
       "      <td>2</td>\n",
       "    </tr>\n",
       "  </tbody>\n",
       "</table>\n",
       "</div>"
      ],
      "text/plain": [
       "                                            response  zh_label\n",
       "0                當你選擇了要嘗試的練習後，請開始該練習。完成後，你可以按“繼續”繼續。         2\n",
       "1                                            你有什麼事嗎？         0\n",
       "2                   感謝你的參與，我真的很感激，你的努力非常寶貴。祝你有美好的一天！         2\n",
       "3                             我很感謝你的參與。我希望很快能再次與你合作。         2\n",
       "4  感謝你如此開放，我正在嘗試確定提供幫助的最佳方式，並了解重新審視創傷是多麼困難。我想知道練習...         2"
      ]
     },
     "execution_count": 284,
     "metadata": {},
     "output_type": "execute_result"
    }
   ],
   "source": [
    "data.head()"
   ]
  },
  {
   "cell_type": "code",
   "execution_count": null,
   "metadata": {},
   "outputs": [
    {
     "data": {
      "text/plain": [
       "zh_label\n",
       "0    331\n",
       "1    388\n",
       "2    381\n",
       "dtype: int64"
      ]
     },
     "execution_count": 285,
     "metadata": {},
     "output_type": "execute_result"
    }
   ],
   "source": [
    "#We consider the overall empathy_score (derived from the individual scores given by the 3 annotators).\n",
    "#The classes in this dataset are approximately balanced\n",
    "data.groupby('zh_label').size()"
   ]
  },
  {
   "cell_type": "markdown",
   "metadata": {},
   "source": [
    "# Downsample"
   ]
  },
  {
   "cell_type": "code",
   "execution_count": 286,
   "metadata": {},
   "outputs": [
    {
     "name": "stdout",
     "output_type": "stream",
     "text": [
      "                                               response  zh_label\n",
      "0                   當你選擇了要嘗試的練習後，請開始該練習。完成後，你可以按“繼續”繼續。         2\n",
      "1                                               你有什麼事嗎？         0\n",
      "2                      感謝你的參與，我真的很感激，你的努力非常寶貴。祝你有美好的一天！         2\n",
      "3                                我很感謝你的參與。我希望很快能再次與你合作。         2\n",
      "4     感謝你如此開放，我正在嘗試確定提供幫助的最佳方式，並了解重新審視創傷是多麼困難。我想知道練習...         2\n",
      "...                                                 ...       ...\n",
      "1095                                    這個練習讓你感覺更好還是更糟？         0\n",
      "1096                   太棒了，總是很高興聽到。你想讓我給你一個練習來感受更多的內容嗎？         1\n",
      "1097                                如果出現任何問題，你是否總是批評自己？         0\n",
      "1098                                       你覺得你讓某人失望了嗎？         0\n",
      "1099                                           你想試試哪一個？         0\n",
      "\n",
      "[1100 rows x 2 columns]\n"
     ]
    }
   ],
   "source": [
    "print(data)"
   ]
  },
  {
   "cell_type": "code",
   "execution_count": 287,
   "metadata": {},
   "outputs": [
    {
     "data": {
      "text/plain": [
       "<AxesSubplot:>"
      ]
     },
     "execution_count": 287,
     "metadata": {},
     "output_type": "execute_result"
    },
    {
     "data": {
      "image/png": "[encoded data removed]",
      "text/plain": [
       "<Figure size 432x288 with 1 Axes>"
      ]
     },
     "metadata": {
      "needs_background": "light"
     },
     "output_type": "display_data"
    }
   ],
   "source": [
    "#checking the label distribution reveals the dataset is unbalanced\n",
    "data.zh_label.value_counts().plot.bar()"
   ]
  },
  {
   "cell_type": "code",
   "execution_count": 114,
   "metadata": {},
   "outputs": [
    {
     "name": "stdout",
     "output_type": "stream",
     "text": [
      "                                             Unnamed: 0  \\\n",
      "1                          Did something happen to you?   \n",
      "9     Give it a go now, please. When you're done, ju...   \n",
      "11        Was this recent or did it happen in the past?   \n",
      "13                  Was this caused by a certain event?   \n",
      "18    When something goes wrong, do you always give ...   \n",
      "...                                                 ...   \n",
      "2193  Was this caused by a recent or distant event (...   \n",
      "2194  Have you recently attempted Protocol 6 and as ...   \n",
      "2195   Has this protocol made you feel better or worse?   \n",
      "2197  Do you always criticise yourself if something ...   \n",
      "2198                    Feel you have let someone down?   \n",
      "\n",
      "                          response  zh_label  empathy_score  annotator1_score  \\\n",
      "1                          你有什麼事嗎？         0              0               0.0   \n",
      "9             請現在試一試。完成後，只需點擊“繼續”。         0              0               0.0   \n",
      "11                 這是最近發生的還是過去發生的？         0              0               0.0   \n",
      "13                    這是由某個事件引起的嗎？         0              0               0.0   \n",
      "18            當出現問題時，你總是把責任歸咎於自己嗎？         0              0               0.0   \n",
      "...                            ...       ...            ...               ...   \n",
      "2193         這是由最近或遙遠的事件（或事件）引起的嗎？         0              0               NaN   \n",
      "2194  你最近是否嘗試過第 6 號練習，並因此重溫了創傷性事件？         0              0               NaN   \n",
      "2195               這個練習讓你感覺更好還是更糟？         0              0               NaN   \n",
      "2197             如果出現問題，你是否總是批評自己？         0              0               NaN   \n",
      "2198                    感覺你讓某人失望了？         0              0               NaN   \n",
      "\n",
      "      annotator2_score  annotator3_score  Unnamed: 7  Unnamed: 8  \n",
      "1                  0.0               1.0         NaN         2.0  \n",
      "9                  0.0               1.0         NaN         1.0  \n",
      "11                 0.0               1.0         NaN         1.0  \n",
      "13                 0.0               1.0         NaN         2.0  \n",
      "18                 0.0               1.0         NaN         2.0  \n",
      "...                ...               ...         ...         ...  \n",
      "2193               NaN               NaN         NaN         NaN  \n",
      "2194               NaN               NaN         NaN         NaN  \n",
      "2195               NaN               NaN         NaN         NaN  \n",
      "2197               NaN               NaN         NaN         NaN  \n",
      "2198               NaN               NaN         NaN         NaN  \n",
      "\n",
      "[668 rows x 9 columns]                                              Unnamed: 0  \\\n",
      "0     When you've selected the protocol you want to ...   \n",
      "2     Thank you for taking part, I really appreciate...   \n",
      "3     I am grateful for your participation. I hope t...   \n",
      "4     Thank you for being so open, I'm trying to det...   \n",
      "5     I am sorry this has not made you feel better, ...   \n",
      "...                                                 ...   \n",
      "2181  Would you honestly say that you are open to th...   \n",
      "2182  From what you have told me I understand you ar...   \n",
      "2188  Sometimes we feel strong emotions that are not...   \n",
      "2190  Thank you for confirmating that you have taken...   \n",
      "2199                       Which would you like to try?   \n",
      "\n",
      "                                               response  zh_label  \\\n",
      "0                   當你選擇了要嘗試的練習後，請開始該練習。完成後，你可以按“繼續”繼續。         2   \n",
      "2                      感謝你的參與，我真的很感激，你的努力非常寶貴。祝你有美好的一天！         2   \n",
      "3                                我很感謝你的參與。我希望很快能再次與你合作。         2   \n",
      "4     感謝你如此開放，我正在嘗試確定提供幫助的最佳方式，並了解重新審視創傷是多麼困難。我想知道練習...         2   \n",
      "5     很抱歉，這並沒有讓你感覺更好，有時可能需要嘗試不同的練習才能感覺更好。你想嘗試另一種希望對你...         2   \n",
      "...                                                 ...       ...   \n",
      "2181                                 你會誠實地說你願意接受別人的意見嗎？         2   \n",
      "2182                   從你告訴我的情況來看，我明白你的感受。你認為這描述了你的感受嗎？         2   \n",
      "2188  有時我們會感到強烈的情緒不會降臨到我們身上；感覺它們很好，但值得反思它們。你是否認為你最近可...         2   \n",
      "2190  感謝你確認你已為你接受了練習。我希望這對你來說是一次積極的經歷，我還想問一下你現在感覺更好還...         2   \n",
      "2199                                            你想試試哪個？         2   \n",
      "\n",
      "      empathy_score  annotator1_score  annotator2_score  annotator3_score  \\\n",
      "0                 2               1.0               2.0               2.0   \n",
      "2                 2               2.0               1.0               2.0   \n",
      "3                 2               1.0               2.0               2.0   \n",
      "4                 2               2.0               2.0               2.0   \n",
      "5                 2               2.0               2.0               2.0   \n",
      "...             ...               ...               ...               ...   \n",
      "2181              0               NaN               NaN               NaN   \n",
      "2182              2               NaN               NaN               NaN   \n",
      "2188              2               NaN               NaN               NaN   \n",
      "2190              2               NaN               NaN               NaN   \n",
      "2199              0               NaN               NaN               NaN   \n",
      "\n",
      "      Unnamed: 7  Unnamed: 8  \n",
      "0            NaN         1.0  \n",
      "2            NaN         0.0  \n",
      "3            NaN         0.0  \n",
      "4            NaN         1.0  \n",
      "5            NaN         2.0  \n",
      "...          ...         ...  \n",
      "2181         NaN         NaN  \n",
      "2182         NaN         NaN  \n",
      "2188         NaN         NaN  \n",
      "2190         NaN         NaN  \n",
      "2199         NaN         NaN  \n",
      "\n",
      "[799 rows x 9 columns]                                              Unnamed: 0  \\\n",
      "12    How about responsibility for what is happening...   \n",
      "16    Did this happen a long time ago, or fairly rec...   \n",
      "17    Thank you for answering that. During a convers...   \n",
      "20    Thank you. Are you worried about any personal ...   \n",
      "23    Thanks for doing that. Has it made a differenc...   \n",
      "...                                                 ...   \n",
      "2178  I would love it if you could go through this p...   \n",
      "2185  Are you working through something painful, suc...   \n",
      "2191             Tell me what protocol you wish to try.   \n",
      "2192                  How do you feel after doing this?   \n",
      "2196  Would you like me to give you a protocol to fe...   \n",
      "\n",
      "                               response  zh_label  empathy_score  \\\n",
      "12    對你生活中發生的事情負責怎麼樣。你覺得你總是要為出錯的事情負責嗎？         1              1   \n",
      "16                   這是很久以前發生的，還是最近發生的？         1              1   \n",
      "17            謝謝你回答。在談話中，你通常會考慮其他人的觀點嗎？         1              1   \n",
      "20            謝謝你。你是否擔心與你親近的人之間的任何私人問題？         1              1   \n",
      "23          謝謝你這樣做。它有什麼不同嗎？你現在感覺好些還是更糟？         1              1   \n",
      "...                                 ...       ...            ...   \n",
      "2178        如果你可以在完成此練習，我會很高興。你可以按“繼續”。         1              1   \n",
      "2185  你是否正在經歷一些痛苦的事情，例如與你自己或與你一個親近的人吵架？         1              1   \n",
      "2191                       告訴我你想嘗試什麼練習。         1              0   \n",
      "2192                       做完這件事後你感覺如何？         1              0   \n",
      "2196               你想讓我給你一個練習來感受更多的內容嗎？         1              1   \n",
      "\n",
      "      annotator1_score  annotator2_score  annotator3_score  Unnamed: 7  \\\n",
      "12                 1.0               0.0               2.0         NaN   \n",
      "16                 0.0               1.0               1.0         NaN   \n",
      "17                 1.0               1.0               2.0         NaN   \n",
      "20                 1.0               1.0               2.0         NaN   \n",
      "23                 1.0               2.0               1.0         NaN   \n",
      "...                ...               ...               ...         ...   \n",
      "2178               NaN               NaN               NaN         NaN   \n",
      "2185               NaN               NaN               NaN         NaN   \n",
      "2191               NaN               NaN               NaN         NaN   \n",
      "2192               NaN               NaN               NaN         NaN   \n",
      "2196               NaN               NaN               NaN         NaN   \n",
      "\n",
      "      Unnamed: 8  \n",
      "12           0.0  \n",
      "16           2.0  \n",
      "17           2.0  \n",
      "20           1.0  \n",
      "23           1.0  \n",
      "...          ...  \n",
      "2178         NaN  \n",
      "2185         NaN  \n",
      "2191         NaN  \n",
      "2192         NaN  \n",
      "2196         NaN  \n",
      "\n",
      "[733 rows x 9 columns]\n"
     ]
    }
   ],
   "source": [
    "#we downsample the majority classes to match the minority class ('fear') and obtain a more equal split of emotion labels\n",
    "\n",
    "#separate the majority and minority classes\n",
    "# If have bug, check the zh_label\n",
    "df_minority  = data[data['zh_label']==0]\n",
    "df_majority1 = data[data['zh_label']==2]\n",
    "df_majority2 = data[data['zh_label']==1]\n",
    "\n",
    "print(df_minority, df_majority1, df_majority2)\n",
    "\n",
    "#downsample majority labels equal to the number of samples in the minority class\n",
    "df_majority1 = df_majority1.sample(len(df_minority), random_state=0)\n",
    "df_majority2 = df_majority2.sample(len(df_minority), random_state=0)\n",
    "\n",
    "#concat the majority and minority dataframes\n",
    "df_new = pd.concat([df_majority1, df_majority2, df_minority])\n",
    "\n",
    "#shuffle the dataset\n",
    "df_new = df_new.sample(frac=1, random_state=0)"
   ]
  },
  {
   "cell_type": "code",
   "execution_count": 115,
   "metadata": {},
   "outputs": [
    {
     "name": "stdout",
     "output_type": "stream",
     "text": [
      "                                             Unnamed: 0  \\\n",
      "1141  Are you telling me that you are having anxious...   \n",
      "7     Thank you. As a result of your current emotion...   \n",
      "1964  Is it maybe something that happened in the pas...   \n",
      "2022  Ok, thanks, let's see if we can get to the bot...   \n",
      "1299  Did you try using Protocol 11 and if so, why d...   \n",
      "...                                                 ...   \n",
      "1534  Was this event of recent event or was it more ...   \n",
      "1555  In order to try to make you feel better, I nee...   \n",
      "1081  Would you honestly say that you are open to ot...   \n",
      "1825  There are a number of protocols we can try. Wh...   \n",
      "1765  Thank you for your time - I am sure that we'll...   \n",
      "\n",
      "                                         response  zh_label  empathy_score  \\\n",
      "1141        你是說你有焦慮的感覺，不知道你是否也記得你對另一個人是否有其他強烈的感情？         1              2   \n",
      "7                       謝謝你。由於你當前的情緒，你是否覺得需要控制他人？         2              2   \n",
      "1964            是否可能是過去幾天發生的事情導致了這種焦慮，或者感覺比感覺更遙遠？         1              1   \n",
      "2022      好，謝謝。讓我們看看我們是否可以深入了解它。如果你不介意，我會再問你幾個問題。         2              1   \n",
      "1299       你是否嘗試過使用練習 11，如果是，為什麼會因為過去的事件而帶來困難的情緒？         0              1   \n",
      "...                                           ...       ...            ...   \n",
      "1534                        這是最近發生的事件，還是在你的過去更久遠？         1              0   \n",
      "1555  為了讓你感覺更好，我需要了解是不是發生了什麼事情導致了這種情況；這是一個特定的事件嗎？         1              1   \n",
      "1081                         你會誠實地說你對別人的觀點持開放態度嗎？         0              0   \n",
      "1825                        我們可以嘗試許多練習。你想探索以下哪一項？         2              2   \n",
      "1765                         感謝你的寶貴時間-我相信我們會再次相遇！         1              1   \n",
      "\n",
      "      annotator1_score  annotator2_score  annotator3_score  Unnamed: 7  \\\n",
      "1141               NaN               NaN               NaN         NaN   \n",
      "7                  1.0               2.0               2.0         NaN   \n",
      "1964               NaN               NaN               NaN         NaN   \n",
      "2022               NaN               NaN               NaN         NaN   \n",
      "1299               NaN               NaN               NaN         NaN   \n",
      "...                ...               ...               ...         ...   \n",
      "1534               NaN               NaN               NaN         NaN   \n",
      "1555               NaN               NaN               NaN         NaN   \n",
      "1081               0.0               0.0               1.0         NaN   \n",
      "1825               NaN               NaN               NaN         NaN   \n",
      "1765               NaN               NaN               NaN         NaN   \n",
      "\n",
      "      Unnamed: 8  \n",
      "1141         NaN  \n",
      "7            0.0  \n",
      "1964         NaN  \n",
      "2022         NaN  \n",
      "1299         NaN  \n",
      "...          ...  \n",
      "1534         NaN  \n",
      "1555         NaN  \n",
      "1081         NaN  \n",
      "1825         NaN  \n",
      "1765         NaN  \n",
      "\n",
      "[2004 rows x 9 columns]\n"
     ]
    }
   ],
   "source": [
    "print(df_new)"
   ]
  },
  {
   "cell_type": "code",
   "execution_count": 116,
   "metadata": {},
   "outputs": [
    {
     "data": {
      "text/plain": [
       "<AxesSubplot:>"
      ]
     },
     "execution_count": 116,
     "metadata": {},
     "output_type": "execute_result"
    },
    {
     "data": {
      "image/png": "[encoded data removed]",
      "text/plain": [
       "<Figure size 432x288 with 1 Axes>"
      ]
     },
     "metadata": {
      "needs_background": "light"
     },
     "output_type": "display_data"
    }
   ],
   "source": [
    "#check the distribution again, now it's balanced\n",
    "df_new.zh_label.value_counts().plot.bar()"
   ]
  },
  {
   "cell_type": "code",
   "execution_count": 127,
   "metadata": {},
   "outputs": [],
   "source": [
    "#get subsample of 20k samples for fine tuning\n",
    "data = df_new.sample(n=1950)\n",
    "\n",
    "#reset index\n",
    "data.reset_index(drop=True, inplace=True)"
   ]
  },
  {
   "cell_type": "code",
   "execution_count": 128,
   "metadata": {},
   "outputs": [
    {
     "data": {
      "text/plain": [
       "1950"
      ]
     },
     "execution_count": 128,
     "metadata": {},
     "output_type": "execute_result"
    }
   ],
   "source": [
    "len(data)"
   ]
  },
  {
   "cell_type": "code",
   "execution_count": 288,
   "metadata": {},
   "outputs": [],
   "source": [
    "#We replace the numerical labels with more meaningful string labels (useful to later use t5)\n",
    "data[\"zh_label\"].replace({0: \"no\", 1: \"weak\", 2: \"strong\"}, inplace=True)"
   ]
  },
  {
   "cell_type": "code",
   "execution_count": 289,
   "metadata": {},
   "outputs": [
    {
     "data": {
      "text/html": [
       "<div>\n",
       "<style scoped>\n",
       "    .dataframe tbody tr th:only-of-type {\n",
       "        vertical-align: middle;\n",
       "    }\n",
       "\n",
       "    .dataframe tbody tr th {\n",
       "        vertical-align: top;\n",
       "    }\n",
       "\n",
       "    .dataframe thead th {\n",
       "        text-align: right;\n",
       "    }\n",
       "</style>\n",
       "<table border=\"1\" class=\"dataframe\">\n",
       "  <thead>\n",
       "    <tr style=\"text-align: right;\">\n",
       "      <th></th>\n",
       "      <th>response</th>\n",
       "      <th>zh_label</th>\n",
       "    </tr>\n",
       "  </thead>\n",
       "  <tbody>\n",
       "    <tr>\n",
       "      <th>0</th>\n",
       "      <td>當你選擇了要嘗試的練習後，請開始該練習。完成後，你可以按“繼續”繼續。</td>\n",
       "      <td>strong</td>\n",
       "    </tr>\n",
       "    <tr>\n",
       "      <th>1</th>\n",
       "      <td>你有什麼事嗎？</td>\n",
       "      <td>no</td>\n",
       "    </tr>\n",
       "    <tr>\n",
       "      <th>2</th>\n",
       "      <td>感謝你的參與，我真的很感激，你的努力非常寶貴。祝你有美好的一天！</td>\n",
       "      <td>strong</td>\n",
       "    </tr>\n",
       "    <tr>\n",
       "      <th>3</th>\n",
       "      <td>我很感謝你的參與。我希望很快能再次與你合作。</td>\n",
       "      <td>strong</td>\n",
       "    </tr>\n",
       "    <tr>\n",
       "      <th>4</th>\n",
       "      <td>感謝你如此開放，我正在嘗試確定提供幫助的最佳方式，並了解重新審視創傷是多麼困難。我想知道練習...</td>\n",
       "      <td>strong</td>\n",
       "    </tr>\n",
       "  </tbody>\n",
       "</table>\n",
       "</div>"
      ],
      "text/plain": [
       "                                            response zh_label\n",
       "0                當你選擇了要嘗試的練習後，請開始該練習。完成後，你可以按“繼續”繼續。   strong\n",
       "1                                            你有什麼事嗎？       no\n",
       "2                   感謝你的參與，我真的很感激，你的努力非常寶貴。祝你有美好的一天！   strong\n",
       "3                             我很感謝你的參與。我希望很快能再次與你合作。   strong\n",
       "4  感謝你如此開放，我正在嘗試確定提供幫助的最佳方式，並了解重新審視創傷是多麼困難。我想知道練習...   strong"
      ]
     },
     "execution_count": 289,
     "metadata": {},
     "output_type": "execute_result"
    }
   ],
   "source": [
    "#sanity check\n",
    "data.head()"
   ]
  },
  {
   "cell_type": "code",
   "execution_count": 290,
   "metadata": {},
   "outputs": [],
   "source": [
    "#generate the text files for your train, val, and test datasets (we use an 85:5:10 split)\n",
    "\n",
    "train_path = \"/home/wanhee/SATbot2.0/model/EmpathyResponse/my_train.txt\"\n",
    "test_path = \"/home/wanhee/SATbot2.0/model/EmpathyResponse//my_test.txt\"\n",
    "val_path = \"/home/wanhee/SATbot2.0/model/EmpathyResponse//my_val.txt\"\n",
    "\n",
    "\n",
    "from sklearn.model_selection import train_test_split\n",
    "import numpy as np\n",
    "\n",
    "# Creating training and validation sets using an 85-15 split\n",
    "input_train, input_val, target_train, target_val = train_test_split(data.response.to_numpy(), \n",
    "                                                                    data.zh_label.to_numpy(), \n",
    "                                                                    test_size=0.15, random_state=17)\n",
    "\n",
    "# Split the validataion further to obtain a holdout dataset (for testing) -- split 67:33\n",
    "input_val, input_test, target_val, target_test = train_test_split(input_val, target_val, test_size=0.67, random_state=17)\n",
    "\n",
    "\n",
    "## create a dataframe for each dataset\n",
    "train_dataset = pd.DataFrame(data={\"text\": input_train, \"class\": target_train})\n",
    "val_dataset = pd.DataFrame(data={\"text\": input_val, \"class\": target_val})\n",
    "test_dataset = pd.DataFrame(data={\"text\": input_test, \"class\": target_test})\n",
    "final_dataset = {\"train\": train_dataset, \"val\": val_dataset , \"test\": test_dataset }\n",
    "\n",
    "#and write them to file\n",
    "train_dataset.to_csv(train_path, sep=\";\",header=False, index=False)\n",
    "val_dataset.to_csv(val_path, sep=\";\",header=False, index=False)\n",
    "test_dataset.to_csv(test_path, sep=\";\",header=False, index=False)"
   ]
  },
  {
   "cell_type": "code",
   "execution_count": 291,
   "metadata": {},
   "outputs": [],
   "source": [
    "#we will use the concatenated train and validation test to fit our logistic regression function\n",
    "train_val = pd.concat([train_dataset, val_dataset])"
   ]
  },
  {
   "cell_type": "code",
   "execution_count": 292,
   "metadata": {},
   "outputs": [
    {
     "data": {
      "text/html": [
       "<div>\n",
       "<style scoped>\n",
       "    .dataframe tbody tr th:only-of-type {\n",
       "        vertical-align: middle;\n",
       "    }\n",
       "\n",
       "    .dataframe tbody tr th {\n",
       "        vertical-align: top;\n",
       "    }\n",
       "\n",
       "    .dataframe thead th {\n",
       "        text-align: right;\n",
       "    }\n",
       "</style>\n",
       "<table border=\"1\" class=\"dataframe\">\n",
       "  <thead>\n",
       "    <tr style=\"text-align: right;\">\n",
       "      <th></th>\n",
       "      <th>text</th>\n",
       "      <th>class</th>\n",
       "    </tr>\n",
       "  </thead>\n",
       "  <tbody>\n",
       "    <tr>\n",
       "      <th>0</th>\n",
       "      <td>非常感謝你參加本次會議，非常感謝你的時間和你提供的深思熟慮的意見，並希望本次會議對你有所幫助...</td>\n",
       "      <td>strong</td>\n",
       "    </tr>\n",
       "    <tr>\n",
       "      <th>1</th>\n",
       "      <td>我很遺憾聽到這個消息。你想嘗試不同的練習，看看它是否效果更好？</td>\n",
       "      <td>strong</td>\n",
       "    </tr>\n",
       "    <tr>\n",
       "      <th>2</th>\n",
       "      <td>你認為你應該為別人犧牲自己嗎？</td>\n",
       "      <td>no</td>\n",
       "    </tr>\n",
       "    <tr>\n",
       "      <th>3</th>\n",
       "      <td>當你被激怒時，你是否經常發現自己試圖控制別人？</td>\n",
       "      <td>no</td>\n",
       "    </tr>\n",
       "    <tr>\n",
       "      <th>4</th>\n",
       "      <td>你覺得你在日常生活中與你身邊的人有麻煩嗎？</td>\n",
       "      <td>no</td>\n",
       "    </tr>\n",
       "  </tbody>\n",
       "</table>\n",
       "</div>"
      ],
      "text/plain": [
       "                                                text   class\n",
       "0  非常感謝你參加本次會議，非常感謝你的時間和你提供的深思熟慮的意見，並希望本次會議對你有所幫助...  strong\n",
       "1                    我很遺憾聽到這個消息。你想嘗試不同的練習，看看它是否效果更好？  strong\n",
       "2                                    你認為你應該為別人犧牲自己嗎？      no\n",
       "3                            當你被激怒時，你是否經常發現自己試圖控制別人？      no\n",
       "4                              你覺得你在日常生活中與你身邊的人有麻煩嗎？      no"
      ]
     },
     "execution_count": 292,
     "metadata": {},
     "output_type": "execute_result"
    }
   ],
   "source": [
    "\n",
    "train_val.head()"
   ]
  },
  {
   "cell_type": "code",
   "execution_count": 293,
   "metadata": {},
   "outputs": [
    {
     "name": "stderr",
     "output_type": "stream",
     "text": [
      "c:\\Users\\Wan Hee\\AppData\\Local\\Programs\\Python\\Python39\\lib\\site-packages\\seaborn\\_decorators.py:36: FutureWarning: Pass the following variable as a keyword arg: x. From version 0.12, the only valid positional argument will be `data`, and passing other arguments without an explicit keyword will result in an error or misinterpretation.\n",
      "  warnings.warn(\n"
     ]
    },
    {
     "data": {
      "image/png": "[encoded data removed]",
      "text/plain": [
       "<Figure size 432x288 with 1 Axes>"
      ]
     },
     "metadata": {
      "needs_background": "light"
     },
     "output_type": "display_data"
    }
   ],
   "source": [
    "\n",
    "#visualise label distribution\n",
    "sn.countplot(train_val['class']);\n",
    "plt.title('Train+val: Target distribution');"
   ]
  },
  {
   "cell_type": "code",
   "execution_count": 294,
   "metadata": {},
   "outputs": [],
   "source": [
    "text_transformer = TfidfVectorizer(ngram_range=(1, 2), lowercase=True, max_features=150000)\n"
   ]
  },
  {
   "cell_type": "code",
   "execution_count": 295,
   "metadata": {},
   "outputs": [],
   "source": [
    "X_train_text = text_transformer.fit_transform(train_val['text'])\n",
    "X_test_text = text_transformer.transform(test_dataset['text'])"
   ]
  },
  {
   "cell_type": "code",
   "execution_count": 296,
   "metadata": {},
   "outputs": [
    {
     "name": "stdout",
     "output_type": "stream",
     "text": [
      "(989, 3008) (111, 3008)\n"
     ]
    }
   ],
   "source": [
    "print(X_train_text.shape, \n",
    "      X_test_text.shape)"
   ]
  },
  {
   "cell_type": "code",
   "execution_count": 297,
   "metadata": {},
   "outputs": [],
   "source": [
    "logit = LogisticRegression(C=5e1, solver='lbfgs', multi_class='multinomial', random_state=17, n_jobs=4)\n"
   ]
  },
  {
   "cell_type": "code",
   "execution_count": 298,
   "metadata": {},
   "outputs": [
    {
     "data": {
      "text/html": [
       "<style>#sk-container-id-11 {color: black;background-color: white;}#sk-container-id-11 pre{padding: 0;}#sk-container-id-11 div.sk-toggleable {background-color: white;}#sk-container-id-11 label.sk-toggleable__label {cursor: pointer;display: block;width: 100%;margin-bottom: 0;padding: 0.3em;box-sizing: border-box;text-align: center;}#sk-container-id-11 label.sk-toggleable__label-arrow:before {content: \"▸\";float: left;margin-right: 0.25em;color: #696969;}#sk-container-id-11 label.sk-toggleable__label-arrow:hover:before {color: black;}#sk-container-id-11 div.sk-estimator:hover label.sk-toggleable__label-arrow:before {color: black;}#sk-container-id-11 div.sk-toggleable__content {max-height: 0;max-width: 0;overflow: hidden;text-align: left;background-color: #f0f8ff;}#sk-container-id-11 div.sk-toggleable__content pre {margin: 0.2em;color: black;border-radius: 0.25em;background-color: #f0f8ff;}#sk-container-id-11 input.sk-toggleable__control:checked~div.sk-toggleable__content {max-height: 200px;max-width: 100%;overflow: auto;}#sk-container-id-11 input.sk-toggleable__control:checked~label.sk-toggleable__label-arrow:before {content: \"▾\";}#sk-container-id-11 div.sk-estimator input.sk-toggleable__control:checked~label.sk-toggleable__label {background-color: #d4ebff;}#sk-container-id-11 div.sk-label input.sk-toggleable__control:checked~label.sk-toggleable__label {background-color: #d4ebff;}#sk-container-id-11 input.sk-hidden--visually {border: 0;clip: rect(1px 1px 1px 1px);clip: rect(1px, 1px, 1px, 1px);height: 1px;margin: -1px;overflow: hidden;padding: 0;position: absolute;width: 1px;}#sk-container-id-11 div.sk-estimator {font-family: monospace;background-color: #f0f8ff;border: 1px dotted black;border-radius: 0.25em;box-sizing: border-box;margin-bottom: 0.5em;}#sk-container-id-11 div.sk-estimator:hover {background-color: #d4ebff;}#sk-container-id-11 div.sk-parallel-item::after {content: \"\";width: 100%;border-bottom: 1px solid gray;flex-grow: 1;}#sk-container-id-11 div.sk-label:hover label.sk-toggleable__label {background-color: #d4ebff;}#sk-container-id-11 div.sk-serial::before {content: \"\";position: absolute;border-left: 1px solid gray;box-sizing: border-box;top: 0;bottom: 0;left: 50%;z-index: 0;}#sk-container-id-11 div.sk-serial {display: flex;flex-direction: column;align-items: center;background-color: white;padding-right: 0.2em;padding-left: 0.2em;position: relative;}#sk-container-id-11 div.sk-item {position: relative;z-index: 1;}#sk-container-id-11 div.sk-parallel {display: flex;align-items: stretch;justify-content: center;background-color: white;position: relative;}#sk-container-id-11 div.sk-item::before, #sk-container-id-11 div.sk-parallel-item::before {content: \"\";position: absolute;border-left: 1px solid gray;box-sizing: border-box;top: 0;bottom: 0;left: 50%;z-index: -1;}#sk-container-id-11 div.sk-parallel-item {display: flex;flex-direction: column;z-index: 1;position: relative;background-color: white;}#sk-container-id-11 div.sk-parallel-item:first-child::after {align-self: flex-end;width: 50%;}#sk-container-id-11 div.sk-parallel-item:last-child::after {align-self: flex-start;width: 50%;}#sk-container-id-11 div.sk-parallel-item:only-child::after {width: 0;}#sk-container-id-11 div.sk-dashed-wrapped {border: 1px dashed gray;margin: 0 0.4em 0.5em 0.4em;box-sizing: border-box;padding-bottom: 0.4em;background-color: white;}#sk-container-id-11 div.sk-label label {font-family: monospace;font-weight: bold;display: inline-block;line-height: 1.2em;}#sk-container-id-11 div.sk-label-container {text-align: center;}#sk-container-id-11 div.sk-container {/* jupyter's `normalize.less` sets `[hidden] { display: none; }` but bootstrap.min.css set `[hidden] { display: none !important; }` so we also need the `!important` here to be able to override the default hidden behavior on the sphinx rendered scikit-learn.org. See: https://github.com/scikit-learn/scikit-learn/issues/21755 */display: inline-block !important;position: relative;}#sk-container-id-11 div.sk-text-repr-fallback {display: none;}</style><div id=\"sk-container-id-11\" class=\"sk-top-container\"><div class=\"sk-text-repr-fallback\"><pre>LogisticRegression(C=50.0, multi_class=&#x27;multinomial&#x27;, n_jobs=4, random_state=17)</pre><b>In a Jupyter environment, please rerun this cell to show the HTML representation or trust the notebook. <br />On GitHub, the HTML representation is unable to render, please try loading this page with nbviewer.org.</b></div><div class=\"sk-container\" hidden><div class=\"sk-item\"><div class=\"sk-estimator sk-toggleable\"><input class=\"sk-toggleable__control sk-hidden--visually\" id=\"sk-estimator-id-11\" type=\"checkbox\" checked><label for=\"sk-estimator-id-11\" class=\"sk-toggleable__label sk-toggleable__label-arrow\">LogisticRegression</label><div class=\"sk-toggleable__content\"><pre>LogisticRegression(C=50.0, multi_class=&#x27;multinomial&#x27;, n_jobs=4, random_state=17)</pre></div></div></div></div></div>"
      ],
      "text/plain": [
       "LogisticRegression(C=50.0, multi_class='multinomial', n_jobs=4, random_state=17)"
      ]
     },
     "execution_count": 298,
     "metadata": {},
     "output_type": "execute_result"
    }
   ],
   "source": [
    "logit.fit(X_train_text, train_val['class'])\n"
   ]
  },
  {
   "cell_type": "code",
   "execution_count": 299,
   "metadata": {},
   "outputs": [],
   "source": [
    "test_preds = logit.predict(X_test_text)\n"
   ]
  },
  {
   "cell_type": "code",
   "execution_count": 300,
   "metadata": {},
   "outputs": [],
   "source": [
    "\n",
    "test_preds = logit.predict(X_test_text)"
   ]
  },
  {
   "cell_type": "code",
   "execution_count": 301,
   "metadata": {},
   "outputs": [
    {
     "data": {
      "text/html": [
       "<div>\n",
       "<style scoped>\n",
       "    .dataframe tbody tr th:only-of-type {\n",
       "        vertical-align: middle;\n",
       "    }\n",
       "\n",
       "    .dataframe tbody tr th {\n",
       "        vertical-align: top;\n",
       "    }\n",
       "\n",
       "    .dataframe thead th {\n",
       "        text-align: right;\n",
       "    }\n",
       "</style>\n",
       "<table border=\"1\" class=\"dataframe\">\n",
       "  <thead>\n",
       "    <tr style=\"text-align: right;\">\n",
       "      <th></th>\n",
       "      <th>class</th>\n",
       "    </tr>\n",
       "  </thead>\n",
       "  <tbody>\n",
       "    <tr>\n",
       "      <th>0</th>\n",
       "      <td>no</td>\n",
       "    </tr>\n",
       "    <tr>\n",
       "      <th>1</th>\n",
       "      <td>strong</td>\n",
       "    </tr>\n",
       "    <tr>\n",
       "      <th>2</th>\n",
       "      <td>strong</td>\n",
       "    </tr>\n",
       "    <tr>\n",
       "      <th>3</th>\n",
       "      <td>weak</td>\n",
       "    </tr>\n",
       "    <tr>\n",
       "      <th>4</th>\n",
       "      <td>strong</td>\n",
       "    </tr>\n",
       "  </tbody>\n",
       "</table>\n",
       "</div>"
      ],
      "text/plain": [
       "    class\n",
       "0      no\n",
       "1  strong\n",
       "2  strong\n",
       "3    weak\n",
       "4  strong"
      ]
     },
     "execution_count": 301,
     "metadata": {},
     "output_type": "execute_result"
    }
   ],
   "source": [
    "\n",
    "y_pred = pd.DataFrame(test_preds, columns=['class'])\n",
    "y_pred.head()"
   ]
  },
  {
   "cell_type": "code",
   "execution_count": 302,
   "metadata": {},
   "outputs": [
    {
     "data": {
      "text/plain": [
       "0.4685"
      ]
     },
     "execution_count": 302,
     "metadata": {},
     "output_type": "execute_result"
    }
   ],
   "source": [
    "#check accuracy, we get ~60% on train+val set\n",
    "outputs = y_pred['class'].to_numpy().tolist()\n",
    "targets = test_dataset['class'].to_numpy().tolist()\n",
    "\n",
    "metrics.accuracy_score(targets, outputs).round(4)"
   ]
  },
  {
   "cell_type": "code",
   "execution_count": 303,
   "metadata": {},
   "outputs": [
    {
     "name": "stdout",
     "output_type": "stream",
     "text": [
      "              precision    recall  f1-score   support\n",
      "\n",
      "          no     0.6923    0.2045    0.3158        44\n",
      "      strong     0.5714    0.6250    0.5970        32\n",
      "        weak     0.3651    0.6571    0.4694        35\n",
      "\n",
      "    accuracy                         0.4685       111\n",
      "   macro avg     0.5429    0.4956    0.4607       111\n",
      "weighted avg     0.5543    0.4685    0.4453       111\n",
      "\n"
     ]
    }
   ],
   "source": [
    "#check all metrics\n",
    "print(metrics.classification_report(targets, outputs, digits=4))"
   ]
  },
  {
   "cell_type": "code",
   "execution_count": 304,
   "metadata": {},
   "outputs": [],
   "source": [
    "\n",
    "cm = metrics.confusion_matrix(targets, outputs)"
   ]
  },
  {
   "cell_type": "code",
   "execution_count": 305,
   "metadata": {},
   "outputs": [
    {
     "data": {
      "text/plain": [
       "<AxesSubplot:>"
      ]
     },
     "execution_count": 305,
     "metadata": {},
     "output_type": "execute_result"
    },
    {
     "data": {
      "image/png": "[encoded data removed]",
      "text/plain": [
       "<Figure size 720x504 with 2 Axes>"
      ]
     },
     "metadata": {
      "needs_background": "light"
     },
     "output_type": "display_data"
    }
   ],
   "source": [
    "\n",
    "df_cm = pd.DataFrame(cm, index = [\"no\", \"strong\", \"weak\"], columns = [\"no\", \"strong\", \"weak\"])\n",
    "plt.figure(figsize = (10,7))\n",
    "sn.heatmap(df_cm, annot=True, cmap='Greens', fmt='g')"
   ]
  },
  {
   "cell_type": "code",
   "execution_count": null,
   "metadata": {},
   "outputs": [],
   "source": []
  }
 ],
 "metadata": {
  "kernelspec": {
   "display_name": "Python 3.9.6 64-bit",
   "language": "python",
   "name": "python3"
  },
  "language_info": {
   "codemirror_mode": {
    "name": "ipython",
    "version": 3
   },
   "file_extension": ".py",
   "mimetype": "text/x-python",
   "name": "python",
   "nbconvert_exporter": "python",
   "pygments_lexer": "ipython3",
   "version": "3.9.6"
  },
  "orig_nbformat": 4,
  "vscode": {
   "interpreter": {
    "hash": "5bd938c840847d54ef8fed239ba8336fe69fbf59024035788a7ca1fdcd065430"
   }
  }
 },
 "nbformat": 4,
 "nbformat_minor": 2
}
